{
 "cells": [
  {
   "cell_type": "markdown",
   "id": "c059465e",
   "metadata": {},
   "source": [
    "## <ins>Pull Libraries </ins>"
   ]
  },
  {
   "cell_type": "markdown",
   "id": "f2ad0ffe",
   "metadata": {},
   "source": [
    "### Add Libraries to Environment"
   ]
  },
  {
   "cell_type": "code",
   "execution_count": 1,
   "id": "02bfefdc",
   "metadata": {},
   "outputs": [
    {
     "name": "stderr",
     "output_type": "stream",
     "text": [
      "\u001b[32m\u001b[1m    Updating\u001b[22m\u001b[39m registry at `C:\\Users\\A\\.julia\\registries\\General.toml`\n",
      "\u001b[32m\u001b[1m    Updating\u001b[22m\u001b[39m registry at `C:\\Users\\A\\.julia\\registries\\JuliaSimRegistry.toml`\n",
      "\u001b[32m\u001b[1m   Resolving\u001b[22m\u001b[39m package versions...\n",
      "\u001b[32m\u001b[1m  No Changes\u001b[22m\u001b[39m to `C:\\Users\\A\\Project.toml`\n",
      "\u001b[32m\u001b[1m  No Changes\u001b[22m\u001b[39m to `C:\\Users\\A\\Manifest.toml`\n"
     ]
    }
   ],
   "source": [
    "import Pkg\n",
    "Pkg.add([\"DataFrames\",\n",
    "        \"LinearAlgebra\",\n",
    "        \"EasyModelAnalysis\",\n",
    "        \"CSV\",\n",
    "        \"Dates\"\n",
    "        ])"
   ]
  },
  {
   "cell_type": "markdown",
   "id": "87676a3a",
   "metadata": {},
   "source": [
    "### Load Libraries"
   ]
  },
  {
   "cell_type": "code",
   "execution_count": 2,
   "id": "3954005e",
   "metadata": {},
   "outputs": [
    {
     "name": "stderr",
     "output_type": "stream",
     "text": [
      "\u001b[36m\u001b[1m[ \u001b[22m\u001b[39m\u001b[36m\u001b[1mInfo: \u001b[22m\u001b[39mPrecompiling EasyModelAnalysis [ef4b24a4-a090-4686-a932-e7e56a5a83bd]\n",
      "\u001b[33m\u001b[1m┌ \u001b[22m\u001b[39m\u001b[33m\u001b[1mWarning: \u001b[22m\u001b[39mReplacing docs for `SciMLBase.sol :: Union{Tuple{D}, Tuple{S}, Tuple{N}, Tuple{T}, Tuple} where {T, N, S, D}` in module `SciMLBase`\n",
      "\u001b[33m\u001b[1m└ \u001b[22m\u001b[39m\u001b[90m@ Base.Docs docs\\Docs.jl:240\u001b[39m\n",
      "WARNING: Method definition __init__() in module LinearSolve at C:\\Users\\A\\.julia\\packages\\LinearSolve\\tdFx4\\src\\init.jl:1 overwritten at C:\\Users\\A\\.julia\\packages\\LinearSolve\\tdFx4\\src\\LinearSolve.jl:120.\n",
      "  ** incremental compilation may be fatally broken for this module **\n",
      "\n",
      "\u001b[36m\u001b[1m[ \u001b[22m\u001b[39m\u001b[36m\u001b[1mInfo: \u001b[22m\u001b[39mPrecompiling UnitfulLatexify [45397f5d-5981-4c77-b2b3-fc36d6e9b728]\n",
      "\u001b[36m\u001b[1m[ \u001b[22m\u001b[39m\u001b[36m\u001b[1mInfo: \u001b[22m\u001b[39mPrecompiling CSV [336ed68f-0bac-5ca0-87d4-7b16caf5d00b]\n"
     ]
    }
   ],
   "source": [
    "using DataFrames\n",
    "using LinearAlgebra\n",
    "using EasyModelAnalysis\n",
    "using CSV\n",
    "using Dates"
   ]
  },
  {
   "cell_type": "markdown",
   "id": "d6ce82e5",
   "metadata": {},
   "source": [
    "## <ins> Define Example Models for the Ensemble </ins>"
   ]
  },
  {
   "cell_type": "markdown",
   "id": "7b798e1b",
   "metadata": {},
   "source": [
    "### First Example Model"
   ]
  },
  {
   "cell_type": "code",
   "execution_count": 3,
   "id": "1b818bf6",
   "metadata": {},
   "outputs": [
    {
     "data": {
      "text/plain": [
       "(0.0, 100.0)"
      ]
     },
     "execution_count": 3,
     "metadata": {},
     "output_type": "execute_result"
    }
   ],
   "source": [
    "tspan = (0.0, 100.0)"
   ]
  },
  {
   "cell_type": "code",
   "execution_count": 4,
   "id": "c437d27d",
   "metadata": {},
   "outputs": [],
   "source": [
    "@parameters t β=0.1 c=10.0 γ=0.25 ρ=0.1 h=0.1 d=0.1 r=0.1\n",
    "@variables S(t)=990.0 I(t)=10.0 R(t)=0.0 H(t)=0.0 D(t)=0.0\n",
    "∂ = Differential(t)\n",
    "N = S + I + R + H + D # This is recognized as a derived variable\n",
    "eqs = [∂(S) ~ -β * c * I / N * S,\n",
    "    ∂(I) ~ β * c * I / N * S - γ * I - h * I - ρ * I,\n",
    "    ∂(R) ~ γ * I + r * H,\n",
    "    ∂(H) ~ h * I - r * H - d * H,\n",
    "    ∂(D) ~ ρ * I + d * H];\n",
    "\n",
    "@named sys1 = ODESystem(eqs);\n",
    "\n",
    "prob1 = ODEProblem(sys1, [], tspan);"
   ]
  },
  {
   "cell_type": "markdown",
   "id": "1ee2f4ff",
   "metadata": {},
   "source": [
    "### Second Example Model"
   ]
  },
  {
   "cell_type": "code",
   "execution_count": 19,
   "id": "3b625651",
   "metadata": {},
   "outputs": [],
   "source": [
    "@parameters t β=0.1 c=10.0 γ=0.25 ρ=0.1 h=0.1 d=0.1 r=0.1 v=0.1\n",
    "@parameters t β2=0.1 c2=10.0 ρ2=0.1 h2=0.1 d2=0.1 r2=0.1\n",
    "@variables S(t)=990.0 I(t)=10.0 R(t)=0.0 H(t)=0.0 D(t)=0.0\n",
    "@variables Sv(t)=0.0 Iv(t)=0.0 Rv(t)=0.0 Hv(t)=0.0 Dv(t)=0.0\n",
    "@variables I_total(t)\n",
    "\n",
    "∂ = Differential(t)\n",
    "N = S + I + R + H + D + Sv + Iv + Rv + Hv + Dv # This is recognized as a derived variable\n",
    "eqs = [∂(S) ~ -β * c * I_total / N * S - v * Sv,\n",
    "    ∂(I) ~ β * c * I_total / N * S - γ * I - h * I - ρ * I,\n",
    "    ∂(R) ~ γ * I + r * H,\n",
    "    ∂(H) ~ h * I - r * H - d * H,\n",
    "    ∂(D) ~ ρ * I + d * H,\n",
    "    ∂(Sv) ~ -β2 * c2 * I_total / N * Sv + v * Sv,\n",
    "    ∂(Iv) ~ β2 * c2 * I_total / N * Sv - γ * Iv - h2 * Iv - ρ2 * Iv,\n",
    "    ∂(Rv) ~ γ * I + r2 * H,\n",
    "    ∂(Hv) ~ h2 * I - r2 * H - d2 * H,\n",
    "    ∂(Dv) ~ ρ2 * I + d2 * H,\n",
    "    I_total ~ I + Iv,\n",
    "];\n",
    "\n",
    "@named sys2 = ODESystem(eqs)\n",
    "sys2 = structural_simplify(sys2)\n",
    "prob2 = ODEProblem(sys2, [], tspan);"
   ]
  },
  {
   "cell_type": "code",
   "execution_count": 22,
   "id": "7fcd8962",
   "metadata": {},
   "outputs": [
    {
     "data": {
      "text/plain": [
       "EnsembleSolution Solution of length 2 with uType:\n",
       "ODESolution{Float64, 2, Vector{Vector{Float64}}, Nothing, Nothing, Vector{Float64}, Vector{Vector{Vector{Float64}}}, P, A, IType, DiffEqBase.Stats, Vector{Int64}} where {P, A, IType}"
      ]
     },
     "execution_count": 22,
     "metadata": {},
     "output_type": "execute_result"
    }
   ],
   "source": [
    "##Ensemble Problems\n",
    "nprobs = [prob1,prob2]\n",
    "function prob_func(prob, i, repeat)\n",
    "    remake(nprobs[i])\n",
    "end\n",
    "enprob = EnsembleProblem(nprobs; prob_func)\n",
    "sol = solve(enprob; saveat = 1, trajectories=2)"
   ]
  },
  {
   "cell_type": "markdown",
   "id": "44bc78aa",
   "metadata": {},
   "source": [
    "## <ins> Dataset Preprocessing </ins>"
   ]
  },
  {
   "cell_type": "markdown",
   "id": "3518e60e",
   "metadata": {},
   "source": [
    "Download all 6 datasets from https://github.com/reichlab/covid19-forecast-hub/tree/master/data-truth. Make sure the datasets are in the same directory as this notebook"
   ]
  },
  {
   "cell_type": "markdown",
   "id": "30115c9c",
   "metadata": {},
   "source": [
    "### Convert CSVs into DataFrames for Preprocessing"
   ]
  },
  {
   "cell_type": "code",
   "execution_count": 6,
   "id": "2ef42b64",
   "metadata": {},
   "outputs": [
    {
     "data": {
      "text/plain": [
       "6-element Vector{DataFrame}:\n",
       " \u001b[1m3641600×4 DataFrame\u001b[0m\n",
       "\u001b[1m     Row \u001b[0m│\u001b[1m date       \u001b[0m\u001b[1m location \u001b[0m\u001b[1m location_name  \u001b[0m\u001b[1m value     \u001b[0m\n",
       "         │\u001b[90m Date       \u001b[0m\u001b[90m String7  \u001b[0m\u001b[90m String31       \u001b[0m\u001b[90m Int64     \u001b[0m\n",
       "─────────┼─────────────────────────────────────────────────\n",
       "       1 │ 2020-01-22  01001     Autauga County          0\n",
       "       2 │ 2020-01-23  01001     Autauga County          0\n",
       "       3 │ 2020-01-24  01001     Autauga County          0\n",
       "       4 │ 2020-01-25  01001     Autauga County          0\n",
       "       5 │ 2020-01-26  01001     Autauga County          0\n",
       "       6 │ 2020-01-27  01001     Autauga County          0\n",
       "       7 │ 2020-01-28  01001     Autauga County          0\n",
       "       8 │ 2020-01-29  01001     Autauga County          0\n",
       "       9 │ 2020-01-30  01001     Autauga County          0\n",
       "      10 │ 2020-01-31  01001     Autauga County          0\n",
       "      11 │ 2020-02-01  01001     Autauga County          0\n",
       "    ⋮    │     ⋮          ⋮            ⋮             ⋮\n",
       " 3641591 │ 2023-02-23  US        United States   103363695\n",
       " 3641592 │ 2023-02-24  US        United States   103376593\n",
       " 3641593 │ 2023-02-25  US        United States   103379338\n",
       " 3641594 │ 2023-02-26  US        United States   103380730\n",
       " 3641595 │ 2023-02-27  US        United States   103396550\n",
       " 3641596 │ 2023-02-28  US        United States   103439103\n",
       " 3641597 │ 2023-03-01  US        United States   103522479\n",
       " 3641598 │ 2023-03-02  US        United States   103583639\n",
       " 3641599 │ 2023-03-03  US        United States   103643742\n",
       " 3641600 │ 2023-03-04  US        United States   103645674\n",
       "\u001b[36m                                       3641579 rows omitted\u001b[0m\n",
       " \u001b[1m3641600×4 DataFrame\u001b[0m\n",
       "\u001b[1m     Row \u001b[0m│\u001b[1m date       \u001b[0m\u001b[1m location \u001b[0m\u001b[1m location_name  \u001b[0m\u001b[1m value   \u001b[0m\n",
       "         │\u001b[90m Date       \u001b[0m\u001b[90m String7  \u001b[0m\u001b[90m String31       \u001b[0m\u001b[90m Int64   \u001b[0m\n",
       "─────────┼───────────────────────────────────────────────\n",
       "       1 │ 2020-01-22  01001     Autauga County        0\n",
       "       2 │ 2020-01-23  01001     Autauga County        0\n",
       "       3 │ 2020-01-24  01001     Autauga County        0\n",
       "       4 │ 2020-01-25  01001     Autauga County        0\n",
       "       5 │ 2020-01-26  01001     Autauga County        0\n",
       "       6 │ 2020-01-27  01001     Autauga County        0\n",
       "       7 │ 2020-01-28  01001     Autauga County        0\n",
       "       8 │ 2020-01-29  01001     Autauga County        0\n",
       "       9 │ 2020-01-30  01001     Autauga County        0\n",
       "      10 │ 2020-01-31  01001     Autauga County        0\n",
       "      11 │ 2020-02-01  01001     Autauga County        0\n",
       "    ⋮    │     ⋮          ⋮            ⋮            ⋮\n",
       " 3641591 │ 2023-02-23  US        United States   1119611\n",
       " 3641592 │ 2023-02-24  US        United States   1119663\n",
       " 3641593 │ 2023-02-25  US        United States   1119677\n",
       " 3641594 │ 2023-02-26  US        United States   1119677\n",
       " 3641595 │ 2023-02-27  US        United States   1119667\n",
       " 3641596 │ 2023-02-28  US        United States   1120002\n",
       " 3641597 │ 2023-03-01  US        United States   1120911\n",
       " 3641598 │ 2023-03-02  US        United States   1121667\n",
       " 3641599 │ 2023-03-03  US        United States   1122157\n",
       " 3641600 │ 2023-03-04  US        United States   1122164\n",
       "\u001b[36m                                     3641579 rows omitted\u001b[0m\n",
       " \u001b[1m4168×4 DataFrame\u001b[0m\n",
       "\u001b[1m  Row \u001b[0m│\u001b[1m date       \u001b[0m\u001b[1m location \u001b[0m\u001b[1m location_name        \u001b[0m\u001b[1m value \u001b[0m\n",
       "      │\u001b[90m Date       \u001b[0m\u001b[90m Int64    \u001b[0m\u001b[90m String31             \u001b[0m\u001b[90m Int64 \u001b[0m\n",
       "──────┼───────────────────────────────────────────────────\n",
       "    1 │ 2021-03-25         2  Alaska                    4\n",
       "    2 │ 2021-03-24        11  District of Columbia     15\n",
       "    3 │ 2021-03-24        33  New Hampshire            13\n",
       "    4 │ 2021-03-23        10  Delaware                 14\n",
       "    5 │ 2021-03-23        19  Iowa                     45\n",
       "    6 │ 2021-03-22        72  Puerto Rico               4\n",
       "    7 │ 2021-03-09        72  Puerto Rico              13\n",
       "    8 │ 2021-03-02        20  Kansas                   23\n",
       "    9 │ 2021-02-25        41  Oregon                   23\n",
       "   10 │ 2021-02-23        25  Massachusetts           127\n",
       "   11 │ 2021-02-16        31  Nebraska                 25\n",
       "  ⋮   │     ⋮          ⋮               ⋮              ⋮\n",
       " 4159 │ 2022-02-04        60  American Samoa          224\n",
       " 4160 │ 2021-11-24        60  American Samoa          224\n",
       " 4161 │ 2021-09-27        60  American Samoa          224\n",
       " 4162 │ 2021-10-25        60  American Samoa          224\n",
       " 4163 │ 2021-12-24        60  American Samoa          224\n",
       " 4164 │ 2021-10-24        60  American Samoa          224\n",
       " 4165 │ 2021-11-03        60  American Samoa          224\n",
       " 4166 │ 2021-09-15        60  American Samoa          224\n",
       " 4167 │ 2021-09-02        60  American Samoa          224\n",
       " 4168 │ 2021-12-16        60  American Samoa          224\n",
       "\u001b[36m                                         4147 rows omitted\u001b[0m\n",
       " \u001b[1m3641600×4 DataFrame\u001b[0m\n",
       "\u001b[1m     Row \u001b[0m│\u001b[1m date       \u001b[0m\u001b[1m location \u001b[0m\u001b[1m location_name  \u001b[0m\u001b[1m value  \u001b[0m\n",
       "         │\u001b[90m Date       \u001b[0m\u001b[90m String7  \u001b[0m\u001b[90m String31       \u001b[0m\u001b[90m Int64  \u001b[0m\n",
       "─────────┼──────────────────────────────────────────────\n",
       "       1 │ 2020-01-22  01001     Autauga County       0\n",
       "       2 │ 2020-01-23  01001     Autauga County       0\n",
       "       3 │ 2020-01-24  01001     Autauga County       0\n",
       "       4 │ 2020-01-25  01001     Autauga County       0\n",
       "       5 │ 2020-01-26  01001     Autauga County       0\n",
       "       6 │ 2020-01-27  01001     Autauga County       0\n",
       "       7 │ 2020-01-28  01001     Autauga County       0\n",
       "       8 │ 2020-01-29  01001     Autauga County       0\n",
       "       9 │ 2020-01-30  01001     Autauga County       0\n",
       "      10 │ 2020-01-31  01001     Autauga County       0\n",
       "      11 │ 2020-02-01  01001     Autauga County       0\n",
       "    ⋮    │     ⋮          ⋮            ⋮           ⋮\n",
       " 3641591 │ 2023-02-23  US        United States    56654\n",
       " 3641592 │ 2023-02-24  US        United States    12898\n",
       " 3641593 │ 2023-02-25  US        United States     2745\n",
       " 3641594 │ 2023-02-26  US        United States     1392\n",
       " 3641595 │ 2023-02-27  US        United States    15820\n",
       " 3641596 │ 2023-02-28  US        United States    42553\n",
       " 3641597 │ 2023-03-01  US        United States    83376\n",
       " 3641598 │ 2023-03-02  US        United States    61160\n",
       " 3641599 │ 2023-03-03  US        United States    60103\n",
       " 3641600 │ 2023-03-04  US        United States     1932\n",
       "\u001b[36m                                    3641579 rows omitted\u001b[0m\n",
       " \u001b[1m3641600×4 DataFrame\u001b[0m\n",
       "\u001b[1m     Row \u001b[0m│\u001b[1m date       \u001b[0m\u001b[1m location \u001b[0m\u001b[1m location_name  \u001b[0m\u001b[1m value \u001b[0m\n",
       "         │\u001b[90m Date       \u001b[0m\u001b[90m String7  \u001b[0m\u001b[90m String31       \u001b[0m\u001b[90m Int64 \u001b[0m\n",
       "─────────┼─────────────────────────────────────────────\n",
       "       1 │ 2020-01-22  01001     Autauga County      0\n",
       "       2 │ 2020-01-23  01001     Autauga County      0\n",
       "       3 │ 2020-01-24  01001     Autauga County      0\n",
       "       4 │ 2020-01-25  01001     Autauga County      0\n",
       "       5 │ 2020-01-26  01001     Autauga County      0\n",
       "       6 │ 2020-01-27  01001     Autauga County      0\n",
       "       7 │ 2020-01-28  01001     Autauga County      0\n",
       "       8 │ 2020-01-29  01001     Autauga County      0\n",
       "       9 │ 2020-01-30  01001     Autauga County      0\n",
       "      10 │ 2020-01-31  01001     Autauga County      0\n",
       "      11 │ 2020-02-01  01001     Autauga County      0\n",
       "    ⋮    │     ⋮          ⋮            ⋮           ⋮\n",
       " 3641591 │ 2023-02-23  US        United States     635\n",
       " 3641592 │ 2023-02-24  US        United States      52\n",
       " 3641593 │ 2023-02-25  US        United States      14\n",
       " 3641594 │ 2023-02-26  US        United States       0\n",
       " 3641595 │ 2023-02-27  US        United States     -10\n",
       " 3641596 │ 2023-02-28  US        United States     335\n",
       " 3641597 │ 2023-03-01  US        United States     909\n",
       " 3641598 │ 2023-03-02  US        United States     756\n",
       " 3641599 │ 2023-03-03  US        United States     490\n",
       " 3641600 │ 2023-03-04  US        United States       7\n",
       "\u001b[36m                                   3641579 rows omitted\u001b[0m\n",
       " \u001b[1m59330×4 DataFrame\u001b[0m\n",
       "\u001b[1m   Row \u001b[0m│\u001b[1m date       \u001b[0m\u001b[1m location \u001b[0m\u001b[1m location_name        \u001b[0m\u001b[1m value \u001b[0m\n",
       "       │\u001b[90m Date       \u001b[0m\u001b[90m String3  \u001b[0m\u001b[90m String31             \u001b[0m\u001b[90m Int64 \u001b[0m\n",
       "───────┼───────────────────────────────────────────────────\n",
       "     1 │ 2021-03-25  02        Alaska                    4\n",
       "     2 │ 2021-03-24  11        District of Columbia     15\n",
       "     3 │ 2021-03-24  33        New Hampshire            13\n",
       "     4 │ 2021-03-23  10        Delaware                 14\n",
       "     5 │ 2021-03-23  19        Iowa                     45\n",
       "     6 │ 2021-03-22  72        Puerto Rico               4\n",
       "     7 │ 2021-03-09  72        Puerto Rico               9\n",
       "     8 │ 2021-03-02  20        Kansas                   23\n",
       "     9 │ 2021-02-25  41        Oregon                   23\n",
       "    10 │ 2021-02-23  25        Massachusetts           127\n",
       "    11 │ 2021-02-16  31        Nebraska                 25\n",
       "   ⋮   │     ⋮          ⋮               ⋮              ⋮\n",
       " 59321 │ 2023-06-21  US        United States           972\n",
       " 59322 │ 2023-06-22  US        United States           905\n",
       " 59323 │ 2023-06-23  US        United States           920\n",
       " 59324 │ 2023-06-24  US        United States           822\n",
       " 59325 │ 2023-06-25  US        United States           855\n",
       " 59326 │ 2023-06-26  US        United States           966\n",
       " 59327 │ 2023-06-27  US        United States          1044\n",
       " 59328 │ 2023-06-28  US        United States           977\n",
       " 59329 │ 2023-06-29  US        United States           901\n",
       " 59330 │ 2023-06-30  US        United States           879\n",
       "\u001b[36m                                         59309 rows omitted\u001b[0m"
      ]
     },
     "execution_count": 6,
     "metadata": {},
     "output_type": "execute_result"
    }
   ],
   "source": [
    "ds_nms = [\"Cumulative_Cases\",  \n",
    "            \"Cumulative_Deaths\", \n",
    "            \"Cumulative_Hospitalizations\", \n",
    "            \"Incident_Cases\", \n",
    "            \"Incident_Deaths\", \n",
    "            \"Incident_Hospitalizations\"]\n",
    "\n",
    "paths = [\"$label.csv\" for label in ds_nms]\n",
    "dfs = map(x->DataFrame(CSV.File(x)), paths)"
   ]
  },
  {
   "cell_type": "markdown",
   "id": "260f24fa",
   "metadata": {},
   "source": [
    "### Grab Data for a Single State"
   ]
  },
  {
   "cell_type": "code",
   "execution_count": 10,
   "id": "449d922c",
   "metadata": {},
   "outputs": [
    {
     "data": {
      "text/plain": [
       "3-element Vector{DataFrame}:\n",
       " \u001b[1m108×4 DataFrame\u001b[0m\n",
       "\u001b[1m Row \u001b[0m│\u001b[1m date       \u001b[0m\u001b[1m location \u001b[0m\u001b[1m location_name \u001b[0m\u001b[1m value   \u001b[0m\n",
       "     │\u001b[90m Date       \u001b[0m\u001b[90m String7  \u001b[0m\u001b[90m String31      \u001b[0m\u001b[90m Int64   \u001b[0m\n",
       "─────┼──────────────────────────────────────────────\n",
       "   1 │ 2020-08-17  36        New York        428385\n",
       "   2 │ 2020-08-18  36        New York        428923\n",
       "   3 │ 2020-08-23  36        New York        432085\n",
       "   4 │ 2020-08-24  36        New York        432558\n",
       "   5 │ 2020-08-25  36        New York        433113\n",
       "   6 │ 2020-08-26  36        New York        433595\n",
       "   7 │ 2020-09-02  36        New York        438405\n",
       "   8 │ 2020-09-03  36        New York        439322\n",
       "   9 │ 2020-09-04  36        New York        440192\n",
       "  10 │ 2020-09-06  36        New York        441748\n",
       "  11 │ 2020-09-08  36        New York        442817\n",
       "  ⋮  │     ⋮          ⋮            ⋮           ⋮\n",
       "  99 │ 2021-03-10  36        New York       1713030\n",
       " 100 │ 2021-03-12  36        New York       1724425\n",
       " 101 │ 2021-03-13  36        New York       1734676\n",
       " 102 │ 2021-03-15  36        New York       1748482\n",
       " 103 │ 2021-03-16  36        New York       1755193\n",
       " 104 │ 2021-03-19  36        New York       1772367\n",
       " 105 │ 2021-03-21  36        New York       1782769\n",
       " 106 │ 2021-03-22  36        New York       1785565\n",
       " 107 │ 2021-03-24  36        New York       1816518\n",
       " 108 │ 2021-03-25  36        New York       1825069\n",
       "\u001b[36m                                     87 rows omitted\u001b[0m\n",
       " \u001b[1m108×4 DataFrame\u001b[0m\n",
       "\u001b[1m Row \u001b[0m│\u001b[1m date       \u001b[0m\u001b[1m location \u001b[0m\u001b[1m location_name \u001b[0m\u001b[1m value \u001b[0m\n",
       "     │\u001b[90m Date       \u001b[0m\u001b[90m String7  \u001b[0m\u001b[90m String31      \u001b[0m\u001b[90m Int64 \u001b[0m\n",
       "─────┼────────────────────────────────────────────\n",
       "   1 │ 2020-08-17  36        New York       32656\n",
       "   2 │ 2020-08-18  36        New York       32668\n",
       "   3 │ 2020-08-23  36        New York       32685\n",
       "   4 │ 2020-08-24  36        New York       32686\n",
       "   5 │ 2020-08-25  36        New York       32715\n",
       "   6 │ 2020-08-26  36        New York       32721\n",
       "   7 │ 2020-09-02  36        New York       32806\n",
       "   8 │ 2020-09-03  36        New York       32810\n",
       "   9 │ 2020-09-04  36        New York       32816\n",
       "  10 │ 2020-09-06  36        New York       32821\n",
       "  11 │ 2020-09-08  36        New York       32850\n",
       "  ⋮  │     ⋮          ⋮            ⋮          ⋮\n",
       "  99 │ 2021-03-10  36        New York       48369\n",
       " 100 │ 2021-03-12  36        New York       48554\n",
       " 101 │ 2021-03-13  36        New York       48648\n",
       " 102 │ 2021-03-15  36        New York       48815\n",
       " 103 │ 2021-03-16  36        New York       48908\n",
       " 104 │ 2021-03-19  36        New York       49134\n",
       " 105 │ 2021-03-21  36        New York       49226\n",
       " 106 │ 2021-03-22  36        New York       49244\n",
       " 107 │ 2021-03-24  36        New York       49517\n",
       " 108 │ 2021-03-25  36        New York       49589\n",
       "\u001b[36m                                   87 rows omitted\u001b[0m\n",
       " \u001b[1m108×4 DataFrame\u001b[0m\n",
       "\u001b[1m Row \u001b[0m│\u001b[1m date       \u001b[0m\u001b[1m location \u001b[0m\u001b[1m location_name \u001b[0m\u001b[1m value \u001b[0m\n",
       "     │\u001b[90m Date       \u001b[0m\u001b[90m Int64    \u001b[0m\u001b[90m String31      \u001b[0m\u001b[90m Int64 \u001b[0m\n",
       "─────┼────────────────────────────────────────────\n",
       "   1 │ 2020-08-17        36  New York       39321\n",
       "   2 │ 2020-08-18        36  New York       23385\n",
       "   3 │ 2020-08-23        36  New York       24276\n",
       "   4 │ 2020-08-24        36  New York       48148\n",
       "   5 │ 2020-08-25        36  New York       24809\n",
       "   6 │ 2020-08-26        36  New York       49265\n",
       "   7 │ 2020-09-02        36  New York       27722\n",
       "   8 │ 2020-09-03        36  New York        9270\n",
       "   9 │ 2020-09-04        36  New York       18059\n",
       "  10 │ 2020-09-06        36  New York        4162\n",
       "  11 │ 2020-09-08        36  New York         103\n",
       "  ⋮  │     ⋮          ⋮            ⋮          ⋮\n",
       "  99 │ 2021-03-10        36  New York       40901\n",
       " 100 │ 2021-03-12        36  New York       40347\n",
       " 101 │ 2021-03-13        36  New York       24729\n",
       " 102 │ 2021-03-15        36  New York        6818\n",
       " 103 │ 2021-03-16        36  New York       35972\n",
       " 104 │ 2021-03-19        36  New York       46769\n",
       " 105 │ 2021-03-21        36  New York         637\n",
       " 106 │ 2021-03-22        36  New York       30985\n",
       " 107 │ 2021-03-24        36  New York       32601\n",
       " 108 │ 2021-03-25        36  New York       17853\n",
       "\u001b[36m                                   87 rows omitted\u001b[0m"
      ]
     },
     "execution_count": 10,
     "metadata": {},
     "output_type": "execute_result"
    }
   ],
   "source": [
    "#Hospitalization needs to be sorted - date is not in increasing order\n",
    "dfs[3] = sort(dfs[3], :date)\n",
    "#Only care about the cumulative data so we take first 3 datasets\n",
    "idxs = [1,2,3]\n",
    "#Choose state to grab data from\n",
    "row_nm = \"New York\"\n",
    "#Preprocess datasets to only contain data from chosen state\n",
    "dfs_state = [filter(row -> row[\"location_name\"] in [row_nm],df) for df in dfs[idxs]]\n",
    "#In order to ensure data shares time points, need to find their intersection across dates\n",
    "common_values = intersect(dfs_state[1][!, \"date\"], dfs_state[2][!, \"date\"], dfs_state[3][!, \"date\"])\n",
    "dfs_state_h = [filter(row -> row[\"date\"] in common_values, df) for df in dfs_state]"
   ]
  },
  {
   "cell_type": "markdown",
   "id": "2c837ef0",
   "metadata": {},
   "source": [
    "### Convert dates into time"
   ]
  },
  {
   "cell_type": "code",
   "execution_count": 11,
   "id": "c4df0c70",
   "metadata": {},
   "outputs": [
    {
     "data": {
      "text/plain": [
       "3-element Vector{Vector{Int64}}:\n",
       " [208, 209, 214, 215, 216, 217, 224, 225, 226, 228  …  413, 415, 416, 418, 419, 422, 424, 425, 427, 428]\n",
       " [208, 209, 214, 215, 216, 217, 224, 225, 226, 228  …  413, 415, 416, 418, 419, 422, 424, 425, 427, 428]\n",
       " [208, 209, 214, 215, 216, 217, 224, 225, 226, 228  …  413, 415, 416, 418, 419, 422, 424, 425, 427, 428]"
      ]
     },
     "execution_count": 11,
     "metadata": {},
     "output_type": "execute_result"
    }
   ],
   "source": [
    "#Need to create static index that maps dates to a day number starting from 0\n",
    "day_since_start(date::Date, start_date::Date) = (date - start_date).value\n",
    "dates = [dfs[i][dfs[i].location_name .== row_nm, :].date for i in idxs]\n",
    "unique_dates = unique(sort(vcat(dates...)))\n",
    "start_date = first(unique_dates)\n",
    "end_date = last(unique_dates)\n",
    "num_days = end_date - start_date\n",
    "tss = map(x->day_since_start.(x, Ref(start_date)), getproperty.(dfs_state_h, Ref(:date)))"
   ]
  },
  {
   "cell_type": "code",
   "execution_count": 12,
   "id": "1a89f094",
   "metadata": {},
   "outputs": [
    {
     "data": {
      "text/plain": [
       "3-element Vector{Dict{String, Vector{Int64}}}:\n",
       " Dict(\"vals\" => [428385, 428923, 432085, 432558, 433113, 433595, 438405, 439322, 440192, 441748  …  1713030, 1724425, 1734676, 1748482, 1755193, 1772367, 1782769, 1785565, 1816518, 1825069], \"ts\" => [208, 209, 214, 215, 216, 217, 224, 225, 226, 228  …  413, 415, 416, 418, 419, 422, 424, 425, 427, 428])\n",
       " Dict(\"vals\" => [32656, 32668, 32685, 32686, 32715, 32721, 32806, 32810, 32816, 32821  …  48369, 48554, 48648, 48815, 48908, 49134, 49226, 49244, 49517, 49589], \"ts\" => [208, 209, 214, 215, 216, 217, 224, 225, 226, 228  …  413, 415, 416, 418, 419, 422, 424, 425, 427, 428])\n",
       " Dict(\"vals\" => [39321, 23385, 24276, 48148, 24809, 49265, 27722, 9270, 18059, 4162  …  40901, 40347, 24729, 6818, 35972, 46769, 637, 30985, 32601, 17853], \"ts\" => [208, 209, 214, 215, 216, 217, 224, 225, 226, 228  …  413, 415, 416, 418, 419, 422, 424, 425, 427, 428])"
      ]
     },
     "execution_count": 12,
     "metadata": {},
     "output_type": "execute_result"
    }
   ],
   "source": [
    "#Get values at each time point\n",
    "vals = getproperty.(dfs_state_h, Ref(:value))\n",
    "data_dict = Dict()\n",
    "map((nm,k,v)-> data_dict[nm] = Dict(\"ts\"=>k, \"vals\"=>v),ds_nms,tss,vals)"
   ]
  },
  {
   "cell_type": "markdown",
   "id": "94035474",
   "metadata": {},
   "source": [
    "### Splitting Datasets"
   ]
  },
  {
   "cell_type": "code",
   "execution_count": 13,
   "id": "c6b9697e",
   "metadata": {},
   "outputs": [
    {
     "data": {
      "text/plain": [
       "\"Cumulative_Hospitalizations\""
      ]
     },
     "execution_count": 13,
     "metadata": {},
     "output_type": "execute_result"
    }
   ],
   "source": [
    "#Assigning dataset type to corresponding state \n",
    "I_nm = ds_nms[1]\n",
    "D_nm = ds_nms[2]\n",
    "H_nm = ds_nms[3]"
   ]
  },
  {
   "cell_type": "code",
   "execution_count": 14,
   "id": "f5ae9b0a",
   "metadata": {},
   "outputs": [
    {
     "data": {
      "text/plain": [
       "3-element Vector{Pair{Num, Vector{Int64}}}:\n",
       " I(t) => [428385, 428923, 432085, 432558, 433113, 433595, 438405, 439322, 440192, 441748  …  461537, 462861, 467693, 468840, 469989, 474894, 476397, 477671, 480129, 481227]\n",
       " D(t) => [32656, 32668, 32685, 32686, 32715, 32721, 32806, 32810, 32816, 32821  …  33158, 33166, 33221, 33234, 33241, 33291, 33296, 33299, 33320, 33330]\n",
       " H(t) => [39321, 23385, 24276, 48148, 24809, 49265, 27722, 9270, 18059, 4162  …  17985, 15207, 51421, 21197, 7883, 32927, 22343, 20634, 46238, 51230]"
      ]
     },
     "execution_count": 14,
     "metadata": {},
     "output_type": "execute_result"
    }
   ],
   "source": [
    "#Train Data\n",
    "train_idx = 30\n",
    "t_train = tss[1][1:train_idx]\n",
    "data_train = [\n",
    "    I => data_dict[I_nm][\"vals\"][1:train_idx],\n",
    "    D => data_dict[D_nm][\"vals\"][1:train_idx],\n",
    "    H => data_dict[H_nm][\"vals\"][1:train_idx]\n",
    "]"
   ]
  },
  {
   "cell_type": "code",
   "execution_count": 15,
   "id": "6f9d9c15",
   "metadata": {},
   "outputs": [
    {
     "data": {
      "text/plain": [
       "3-element Vector{Pair{Num, Vector{Int64}}}:\n",
       " I(t) => [428385, 428923, 432085, 432558, 433113, 433595, 438405, 439322, 440192, 441748  …  523107, 530218, 533797, 537243, 541200, 561921, 566113, 570323, 579811, 609797]\n",
       " D(t) => [32656, 32668, 32685, 32686, 32715, 32721, 32806, 32810, 32816, 32821  …  33687, 33715, 33735, 33755, 33771, 33844, 33866, 33889, 34016, 34177]\n",
       " H(t) => [39321, 23385, 24276, 48148, 24809, 49265, 27722, 9270, 18059, 4162  …  13712, 16251, 51627, 39684, 37438, 15109, 21059, 34391, 33398, 9187]"
      ]
     },
     "execution_count": 15,
     "metadata": {},
     "output_type": "execute_result"
    }
   ],
   "source": [
    "#Ensemble data\n",
    "ensem_idx = 50\n",
    "t_ensem = tss[1][1:ensem_idx]\n",
    "data_ensem = [\n",
    "    I => data_dict[I_nm][\"vals\"][1:ensem_idx],\n",
    "    D => data_dict[D_nm][\"vals\"][1:ensem_idx],\n",
    "    H => data_dict[H_nm][\"vals\"][1:ensem_idx]\n",
    "]"
   ]
  },
  {
   "cell_type": "code",
   "execution_count": 16,
   "id": "798b7a94",
   "metadata": {},
   "outputs": [
    {
     "data": {
      "text/plain": [
       "3-element Vector{Pair{Num, Vector{Int64}}}:\n",
       " I(t) => [428385, 428923, 432085, 432558, 433113, 433595, 438405, 439322, 440192, 441748  …  1713030, 1724425, 1734676, 1748482, 1755193, 1772367, 1782769, 1785565, 1816518, 1825069]\n",
       " D(t) => [32656, 32668, 32685, 32686, 32715, 32721, 32806, 32810, 32816, 32821  …  48369, 48554, 48648, 48815, 48908, 49134, 49226, 49244, 49517, 49589]\n",
       " H(t) => [39321, 23385, 24276, 48148, 24809, 49265, 27722, 9270, 18059, 4162  …  40901, 40347, 24729, 6818, 35972, 46769, 637, 30985, 32601, 17853]"
      ]
     },
     "execution_count": 16,
     "metadata": {},
     "output_type": "execute_result"
    }
   ],
   "source": [
    "#Forecast data\n",
    "forcst_idx = 108 \n",
    "t_forecast = tss[1][1:forcst_idx]\n",
    "data_ensem = [\n",
    "    I => data_dict[I_nm][\"vals\"][1:forcst_idx],\n",
    "    D => data_dict[D_nm][\"vals\"][1:forcst_idx],\n",
    "    H => data_dict[H_nm][\"vals\"][1:forcst_idx]\n",
    "]"
   ]
  },
  {
   "cell_type": "markdown",
   "id": "bd6dd827",
   "metadata": {},
   "source": [
    "## Calibrating Ensemble Model to Dataset"
   ]
  },
  {
   "cell_type": "code",
   "execution_count": 24,
   "id": "356d9b41",
   "metadata": {},
   "outputs": [
    {
     "name": "stderr",
     "output_type": "stream",
     "text": [
      "WARNING: both SciMLBase and BlackBoxOptim export \"OptimizationProblem\"; uses of it in module OptimizationBBO must be qualified\n"
     ]
    }
   ],
   "source": [
    "fitparams = map(nprobs) do prob\n",
    "    global_datafit(prob, [β => [0.01, 10.0], γ => [0.01, 10.0]],\n",
    "                            t_train, data_train)\n",
    "end\n",
    "\n",
    "function prob_func(prob, i, repeat)\n",
    "    remake(nprobs[i]; p = fitparams[i], tspan = (t_train[1],t_train[end]))\n",
    "end\n",
    "\n",
    "fit_enprob = EnsembleProblem(nprobs; prob_func)\n",
    "sol = solve(fit_enprob; trajectories=2);"
   ]
  },
  {
   "cell_type": "markdown",
   "id": "92b7c622",
   "metadata": {},
   "source": [
    "### Visualize Results"
   ]
  },
  {
   "cell_type": "code",
   "execution_count": 26,
   "id": "e0a851ec",
   "metadata": {},
   "outputs": [
    {
     "data": {
      "image/svg+xml": [
       "<?xml version=\"1.0\" encoding=\"utf-8\"?>\n",
       "<svg xmlns=\"http://www.w3.org/2000/svg\" xmlns:xlink=\"http://www.w3.org/1999/xlink\" width=\"600\" height=\"400\" viewBox=\"0 0 2400 1600\">\n",
       "<defs>\n",
       "  <clipPath id=\"clip420\">\n",
       "    <rect x=\"0\" y=\"0\" width=\"2400\" height=\"1600\"/>\n",
       "  </clipPath>\n",
       "</defs>\n",
       "<path clip-path=\"url(#clip420)\" d=\"M0 1600 L2400 1600 L2400 0 L0 0  Z\" fill=\"#ffffff\" fill-rule=\"evenodd\" fill-opacity=\"1\"/>\n",
       "<defs>\n",
       "  <clipPath id=\"clip421\">\n",
       "    <rect x=\"480\" y=\"0\" width=\"1681\" height=\"1600\"/>\n",
       "  </clipPath>\n",
       "</defs>\n",
       "<path clip-path=\"url(#clip420)\" d=\"M275.136 1423.18 L2352.76 1423.18 L2352.76 47.2441 L275.136 47.2441  Z\" fill=\"#ffffff\" fill-rule=\"evenodd\" fill-opacity=\"1\"/>\n",
       "<defs>\n",
       "  <clipPath id=\"clip422\">\n",
       "    <rect x=\"275\" y=\"47\" width=\"2079\" height=\"1377\"/>\n",
       "  </clipPath>\n",
       "</defs>\n",
       "<polyline clip-path=\"url(#clip422)\" style=\"stroke:#000000; stroke-linecap:round; stroke-linejoin:round; stroke-width:2; stroke-opacity:0.1; fill:none\" points=\"346.778,1423.18 346.778,47.2441 \"/>\n",
       "<polyline clip-path=\"url(#clip422)\" style=\"stroke:#000000; stroke-linecap:round; stroke-linejoin:round; stroke-width:2; stroke-opacity:0.1; fill:none\" points=\"704.989,1423.18 704.989,47.2441 \"/>\n",
       "<polyline clip-path=\"url(#clip422)\" style=\"stroke:#000000; stroke-linecap:round; stroke-linejoin:round; stroke-width:2; stroke-opacity:0.1; fill:none\" points=\"1063.2,1423.18 1063.2,47.2441 \"/>\n",
       "<polyline clip-path=\"url(#clip422)\" style=\"stroke:#000000; stroke-linecap:round; stroke-linejoin:round; stroke-width:2; stroke-opacity:0.1; fill:none\" points=\"1421.41,1423.18 1421.41,47.2441 \"/>\n",
       "<polyline clip-path=\"url(#clip422)\" style=\"stroke:#000000; stroke-linecap:round; stroke-linejoin:round; stroke-width:2; stroke-opacity:0.1; fill:none\" points=\"1779.62,1423.18 1779.62,47.2441 \"/>\n",
       "<polyline clip-path=\"url(#clip422)\" style=\"stroke:#000000; stroke-linecap:round; stroke-linejoin:round; stroke-width:2; stroke-opacity:0.1; fill:none\" points=\"2137.83,1423.18 2137.83,47.2441 \"/>\n",
       "<polyline clip-path=\"url(#clip420)\" style=\"stroke:#000000; stroke-linecap:round; stroke-linejoin:round; stroke-width:4; stroke-opacity:1; fill:none\" points=\"275.136,1423.18 2352.76,1423.18 \"/>\n",
       "<polyline clip-path=\"url(#clip420)\" style=\"stroke:#000000; stroke-linecap:round; stroke-linejoin:round; stroke-width:4; stroke-opacity:1; fill:none\" points=\"346.778,1423.18 346.778,1404.28 \"/>\n",
       "<polyline clip-path=\"url(#clip420)\" style=\"stroke:#000000; stroke-linecap:round; stroke-linejoin:round; stroke-width:4; stroke-opacity:1; fill:none\" points=\"704.989,1423.18 704.989,1404.28 \"/>\n",
       "<polyline clip-path=\"url(#clip420)\" style=\"stroke:#000000; stroke-linecap:round; stroke-linejoin:round; stroke-width:4; stroke-opacity:1; fill:none\" points=\"1063.2,1423.18 1063.2,1404.28 \"/>\n",
       "<polyline clip-path=\"url(#clip420)\" style=\"stroke:#000000; stroke-linecap:round; stroke-linejoin:round; stroke-width:4; stroke-opacity:1; fill:none\" points=\"1421.41,1423.18 1421.41,1404.28 \"/>\n",
       "<polyline clip-path=\"url(#clip420)\" style=\"stroke:#000000; stroke-linecap:round; stroke-linejoin:round; stroke-width:4; stroke-opacity:1; fill:none\" points=\"1779.62,1423.18 1779.62,1404.28 \"/>\n",
       "<polyline clip-path=\"url(#clip420)\" style=\"stroke:#000000; stroke-linecap:round; stroke-linejoin:round; stroke-width:4; stroke-opacity:1; fill:none\" points=\"2137.83,1423.18 2137.83,1404.28 \"/>\n",
       "<path clip-path=\"url(#clip420)\" d=\"M310.471 1481.64 L326.79 1481.64 L326.79 1485.58 L304.846 1485.58 L304.846 1481.64 Q307.508 1478.89 312.091 1474.26 Q316.698 1469.61 317.878 1468.27 Q320.123 1465.74 321.003 1464.01 Q321.906 1462.25 321.906 1460.56 Q321.906 1457.8 319.961 1456.07 Q318.04 1454.33 314.938 1454.33 Q312.739 1454.33 310.286 1455.09 Q307.855 1455.86 305.077 1457.41 L305.077 1452.69 Q307.901 1451.55 310.355 1450.97 Q312.809 1450.39 314.846 1450.39 Q320.216 1450.39 323.41 1453.08 Q326.605 1455.77 326.605 1460.26 Q326.605 1462.39 325.795 1464.31 Q325.008 1466.2 322.901 1468.8 Q322.323 1469.47 319.221 1472.69 Q316.119 1475.88 310.471 1481.64 Z\" fill=\"#000000\" fill-rule=\"nonzero\" fill-opacity=\"1\" /><path clip-path=\"url(#clip420)\" d=\"M337.415 1481.64 L345.054 1481.64 L345.054 1455.28 L336.744 1456.95 L336.744 1452.69 L345.008 1451.02 L349.684 1451.02 L349.684 1481.64 L357.322 1481.64 L357.322 1485.58 L337.415 1485.58 L337.415 1481.64 Z\" fill=\"#000000\" fill-rule=\"nonzero\" fill-opacity=\"1\" /><path clip-path=\"url(#clip420)\" d=\"M376.767 1454.1 Q373.156 1454.1 371.327 1457.66 Q369.521 1461.2 369.521 1468.33 Q369.521 1475.44 371.327 1479.01 Q373.156 1482.55 376.767 1482.55 Q380.401 1482.55 382.206 1479.01 Q384.035 1475.44 384.035 1468.33 Q384.035 1461.2 382.206 1457.66 Q380.401 1454.1 376.767 1454.1 M376.767 1450.39 Q382.577 1450.39 385.632 1455 Q388.711 1459.58 388.711 1468.33 Q388.711 1477.06 385.632 1481.67 Q382.577 1486.25 376.767 1486.25 Q370.957 1486.25 367.878 1481.67 Q364.822 1477.06 364.822 1468.33 Q364.822 1459.58 367.878 1455 Q370.957 1450.39 376.767 1450.39 Z\" fill=\"#000000\" fill-rule=\"nonzero\" fill-opacity=\"1\" /><path clip-path=\"url(#clip420)\" d=\"M668.681 1481.64 L685 1481.64 L685 1485.58 L663.056 1485.58 L663.056 1481.64 Q665.718 1478.89 670.301 1474.26 Q674.908 1469.61 676.088 1468.27 Q678.334 1465.74 679.213 1464.01 Q680.116 1462.25 680.116 1460.56 Q680.116 1457.8 678.172 1456.07 Q676.25 1454.33 673.149 1454.33 Q670.95 1454.33 668.496 1455.09 Q666.065 1455.86 663.288 1457.41 L663.288 1452.69 Q666.112 1451.55 668.565 1450.97 Q671.019 1450.39 673.056 1450.39 Q678.426 1450.39 681.621 1453.08 Q684.815 1455.77 684.815 1460.26 Q684.815 1462.39 684.005 1464.31 Q683.218 1466.2 681.112 1468.8 Q680.533 1469.47 677.431 1472.69 Q674.329 1475.88 668.681 1481.64 Z\" fill=\"#000000\" fill-rule=\"nonzero\" fill-opacity=\"1\" /><path clip-path=\"url(#clip420)\" d=\"M698.843 1481.64 L715.162 1481.64 L715.162 1485.58 L693.218 1485.58 L693.218 1481.64 Q695.88 1478.89 700.463 1474.26 Q705.07 1469.61 706.25 1468.27 Q708.496 1465.74 709.375 1464.01 Q710.278 1462.25 710.278 1460.56 Q710.278 1457.8 708.334 1456.07 Q706.412 1454.33 703.31 1454.33 Q701.111 1454.33 698.658 1455.09 Q696.227 1455.86 693.449 1457.41 L693.449 1452.69 Q696.273 1451.55 698.727 1450.97 Q701.181 1450.39 703.218 1450.39 Q708.588 1450.39 711.783 1453.08 Q714.977 1455.77 714.977 1460.26 Q714.977 1462.39 714.167 1464.31 Q713.38 1466.2 711.273 1468.8 Q710.695 1469.47 707.593 1472.69 Q704.491 1475.88 698.843 1481.64 Z\" fill=\"#000000\" fill-rule=\"nonzero\" fill-opacity=\"1\" /><path clip-path=\"url(#clip420)\" d=\"M734.977 1454.1 Q731.366 1454.1 729.537 1457.66 Q727.732 1461.2 727.732 1468.33 Q727.732 1475.44 729.537 1479.01 Q731.366 1482.55 734.977 1482.55 Q738.611 1482.55 740.417 1479.01 Q742.245 1475.44 742.245 1468.33 Q742.245 1461.2 740.417 1457.66 Q738.611 1454.1 734.977 1454.1 M734.977 1450.39 Q740.787 1450.39 743.843 1455 Q746.921 1459.58 746.921 1468.33 Q746.921 1477.06 743.843 1481.67 Q740.787 1486.25 734.977 1486.25 Q729.167 1486.25 726.088 1481.67 Q723.033 1477.06 723.033 1468.33 Q723.033 1459.58 726.088 1455 Q729.167 1450.39 734.977 1450.39 Z\" fill=\"#000000\" fill-rule=\"nonzero\" fill-opacity=\"1\" /><path clip-path=\"url(#clip420)\" d=\"M1026.89 1481.64 L1043.21 1481.64 L1043.21 1485.58 L1021.27 1485.58 L1021.27 1481.64 Q1023.93 1478.89 1028.51 1474.26 Q1033.12 1469.61 1034.3 1468.27 Q1036.54 1465.74 1037.42 1464.01 Q1038.33 1462.25 1038.33 1460.56 Q1038.33 1457.8 1036.38 1456.07 Q1034.46 1454.33 1031.36 1454.33 Q1029.16 1454.33 1026.71 1455.09 Q1024.28 1455.86 1021.5 1457.41 L1021.5 1452.69 Q1024.32 1451.55 1026.78 1450.97 Q1029.23 1450.39 1031.27 1450.39 Q1036.64 1450.39 1039.83 1453.08 Q1043.03 1455.77 1043.03 1460.26 Q1043.03 1462.39 1042.22 1464.31 Q1041.43 1466.2 1039.32 1468.8 Q1038.74 1469.47 1035.64 1472.69 Q1032.54 1475.88 1026.89 1481.64 Z\" fill=\"#000000\" fill-rule=\"nonzero\" fill-opacity=\"1\" /><path clip-path=\"url(#clip420)\" d=\"M1067.19 1466.95 Q1070.55 1467.66 1072.42 1469.93 Q1074.32 1472.2 1074.32 1475.53 Q1074.32 1480.65 1070.8 1483.45 Q1067.28 1486.25 1060.8 1486.25 Q1058.63 1486.25 1056.31 1485.81 Q1054.02 1485.39 1051.57 1484.54 L1051.57 1480.02 Q1053.51 1481.16 1055.83 1481.74 Q1058.14 1482.32 1060.66 1482.32 Q1065.06 1482.32 1067.35 1480.58 Q1069.67 1478.84 1069.67 1475.53 Q1069.67 1472.48 1067.52 1470.77 Q1065.39 1469.03 1061.57 1469.03 L1057.54 1469.03 L1057.54 1465.19 L1061.75 1465.19 Q1065.2 1465.19 1067.03 1463.82 Q1068.86 1462.43 1068.86 1459.84 Q1068.86 1457.18 1066.96 1455.77 Q1065.09 1454.33 1061.57 1454.33 Q1059.65 1454.33 1057.45 1454.75 Q1055.25 1455.16 1052.61 1456.04 L1052.61 1451.88 Q1055.27 1451.14 1057.59 1450.77 Q1059.92 1450.39 1061.98 1450.39 Q1067.31 1450.39 1070.41 1452.83 Q1073.51 1455.23 1073.51 1459.35 Q1073.51 1462.22 1071.87 1464.21 Q1070.22 1466.18 1067.19 1466.95 Z\" fill=\"#000000\" fill-rule=\"nonzero\" fill-opacity=\"1\" /><path clip-path=\"url(#clip420)\" d=\"M1093.19 1454.1 Q1089.58 1454.1 1087.75 1457.66 Q1085.94 1461.2 1085.94 1468.33 Q1085.94 1475.44 1087.75 1479.01 Q1089.58 1482.55 1093.19 1482.55 Q1096.82 1482.55 1098.63 1479.01 Q1100.46 1475.44 1100.46 1468.33 Q1100.46 1461.2 1098.63 1457.66 Q1096.82 1454.1 1093.19 1454.1 M1093.19 1450.39 Q1099 1450.39 1102.05 1455 Q1105.13 1459.58 1105.13 1468.33 Q1105.13 1477.06 1102.05 1481.67 Q1099 1486.25 1093.19 1486.25 Q1087.38 1486.25 1084.3 1481.67 Q1081.24 1477.06 1081.24 1468.33 Q1081.24 1459.58 1084.3 1455 Q1087.38 1450.39 1093.19 1450.39 Z\" fill=\"#000000\" fill-rule=\"nonzero\" fill-opacity=\"1\" /><path clip-path=\"url(#clip420)\" d=\"M1385.1 1481.64 L1401.42 1481.64 L1401.42 1485.58 L1379.48 1485.58 L1379.48 1481.64 Q1382.14 1478.89 1386.72 1474.26 Q1391.33 1469.61 1392.51 1468.27 Q1394.75 1465.74 1395.63 1464.01 Q1396.54 1462.25 1396.54 1460.56 Q1396.54 1457.8 1394.59 1456.07 Q1392.67 1454.33 1389.57 1454.33 Q1387.37 1454.33 1384.92 1455.09 Q1382.49 1455.86 1379.71 1457.41 L1379.71 1452.69 Q1382.53 1451.55 1384.99 1450.97 Q1387.44 1450.39 1389.48 1450.39 Q1394.85 1450.39 1398.04 1453.08 Q1401.24 1455.77 1401.24 1460.26 Q1401.24 1462.39 1400.43 1464.31 Q1399.64 1466.2 1397.53 1468.8 Q1396.95 1469.47 1393.85 1472.69 Q1390.75 1475.88 1385.1 1481.64 Z\" fill=\"#000000\" fill-rule=\"nonzero\" fill-opacity=\"1\" /><path clip-path=\"url(#clip420)\" d=\"M1424.08 1455.09 L1412.28 1473.54 L1424.08 1473.54 L1424.08 1455.09 M1422.86 1451.02 L1428.74 1451.02 L1428.74 1473.54 L1433.67 1473.54 L1433.67 1477.43 L1428.74 1477.43 L1428.74 1485.58 L1424.08 1485.58 L1424.08 1477.43 L1408.48 1477.43 L1408.48 1472.92 L1422.86 1451.02 Z\" fill=\"#000000\" fill-rule=\"nonzero\" fill-opacity=\"1\" /><path clip-path=\"url(#clip420)\" d=\"M1451.4 1454.1 Q1447.79 1454.1 1445.96 1457.66 Q1444.15 1461.2 1444.15 1468.33 Q1444.15 1475.44 1445.96 1479.01 Q1447.79 1482.55 1451.4 1482.55 Q1455.03 1482.55 1456.84 1479.01 Q1458.67 1475.44 1458.67 1468.33 Q1458.67 1461.2 1456.84 1457.66 Q1455.03 1454.1 1451.4 1454.1 M1451.4 1450.39 Q1457.21 1450.39 1460.26 1455 Q1463.34 1459.58 1463.34 1468.33 Q1463.34 1477.06 1460.26 1481.67 Q1457.21 1486.25 1451.4 1486.25 Q1445.59 1486.25 1442.51 1481.67 Q1439.45 1477.06 1439.45 1468.33 Q1439.45 1459.58 1442.51 1455 Q1445.59 1450.39 1451.4 1450.39 Z\" fill=\"#000000\" fill-rule=\"nonzero\" fill-opacity=\"1\" /><path clip-path=\"url(#clip420)\" d=\"M1743.31 1481.64 L1759.63 1481.64 L1759.63 1485.58 L1737.69 1485.58 L1737.69 1481.64 Q1740.35 1478.89 1744.93 1474.26 Q1749.54 1469.61 1750.72 1468.27 Q1752.96 1465.74 1753.84 1464.01 Q1754.75 1462.25 1754.75 1460.56 Q1754.75 1457.8 1752.8 1456.07 Q1750.88 1454.33 1747.78 1454.33 Q1745.58 1454.33 1743.13 1455.09 Q1740.7 1455.86 1737.92 1457.41 L1737.92 1452.69 Q1740.74 1451.55 1743.2 1450.97 Q1745.65 1450.39 1747.69 1450.39 Q1753.06 1450.39 1756.25 1453.08 Q1759.45 1455.77 1759.45 1460.26 Q1759.45 1462.39 1758.64 1464.31 Q1757.85 1466.2 1755.74 1468.8 Q1755.16 1469.47 1752.06 1472.69 Q1748.96 1475.88 1743.31 1481.64 Z\" fill=\"#000000\" fill-rule=\"nonzero\" fill-opacity=\"1\" /><path clip-path=\"url(#clip420)\" d=\"M1769.49 1451.02 L1787.85 1451.02 L1787.85 1454.96 L1773.77 1454.96 L1773.77 1463.43 Q1774.79 1463.08 1775.81 1462.92 Q1776.83 1462.73 1777.85 1462.73 Q1783.64 1462.73 1787.02 1465.9 Q1790.39 1469.08 1790.39 1474.49 Q1790.39 1480.07 1786.92 1483.17 Q1783.45 1486.25 1777.13 1486.25 Q1774.96 1486.25 1772.69 1485.88 Q1770.44 1485.51 1768.03 1484.77 L1768.03 1480.07 Q1770.12 1481.2 1772.34 1481.76 Q1774.56 1482.32 1777.04 1482.32 Q1781.04 1482.32 1783.38 1480.21 Q1785.72 1478.1 1785.72 1474.49 Q1785.72 1470.88 1783.38 1468.77 Q1781.04 1466.67 1777.04 1466.67 Q1775.16 1466.67 1773.29 1467.08 Q1771.44 1467.5 1769.49 1468.38 L1769.49 1451.02 Z\" fill=\"#000000\" fill-rule=\"nonzero\" fill-opacity=\"1\" /><path clip-path=\"url(#clip420)\" d=\"M1809.61 1454.1 Q1806 1454.1 1804.17 1457.66 Q1802.36 1461.2 1802.36 1468.33 Q1802.36 1475.44 1804.17 1479.01 Q1806 1482.55 1809.61 1482.55 Q1813.24 1482.55 1815.05 1479.01 Q1816.88 1475.44 1816.88 1468.33 Q1816.88 1461.2 1815.05 1457.66 Q1813.24 1454.1 1809.61 1454.1 M1809.61 1450.39 Q1815.42 1450.39 1818.47 1455 Q1821.55 1459.58 1821.55 1468.33 Q1821.55 1477.06 1818.47 1481.67 Q1815.42 1486.25 1809.61 1486.25 Q1803.8 1486.25 1800.72 1481.67 Q1797.66 1477.06 1797.66 1468.33 Q1797.66 1459.58 1800.72 1455 Q1803.8 1450.39 1809.61 1450.39 Z\" fill=\"#000000\" fill-rule=\"nonzero\" fill-opacity=\"1\" /><path clip-path=\"url(#clip420)\" d=\"M2101.52 1481.64 L2117.84 1481.64 L2117.84 1485.58 L2095.9 1485.58 L2095.9 1481.64 Q2098.56 1478.89 2103.14 1474.26 Q2107.75 1469.61 2108.93 1468.27 Q2111.17 1465.74 2112.05 1464.01 Q2112.96 1462.25 2112.96 1460.56 Q2112.96 1457.8 2111.01 1456.07 Q2109.09 1454.33 2105.99 1454.33 Q2103.79 1454.33 2101.34 1455.09 Q2098.91 1455.86 2096.13 1457.41 L2096.13 1452.69 Q2098.95 1451.55 2101.41 1450.97 Q2103.86 1450.39 2105.9 1450.39 Q2111.27 1450.39 2114.46 1453.08 Q2117.66 1455.77 2117.66 1460.26 Q2117.66 1462.39 2116.85 1464.31 Q2116.06 1466.2 2113.95 1468.8 Q2113.37 1469.47 2110.27 1472.69 Q2107.17 1475.88 2101.52 1481.64 Z\" fill=\"#000000\" fill-rule=\"nonzero\" fill-opacity=\"1\" /><path clip-path=\"url(#clip420)\" d=\"M2138.23 1466.44 Q2135.09 1466.44 2133.23 1468.59 Q2131.41 1470.74 2131.41 1474.49 Q2131.41 1478.22 2133.23 1480.39 Q2135.09 1482.55 2138.23 1482.55 Q2141.38 1482.55 2143.21 1480.39 Q2145.06 1478.22 2145.06 1474.49 Q2145.06 1470.74 2143.21 1468.59 Q2141.38 1466.44 2138.23 1466.44 M2147.52 1451.78 L2147.52 1456.04 Q2145.76 1455.21 2143.95 1454.77 Q2142.17 1454.33 2140.41 1454.33 Q2135.78 1454.33 2133.33 1457.45 Q2130.9 1460.58 2130.55 1466.9 Q2131.92 1464.89 2133.98 1463.82 Q2136.04 1462.73 2138.51 1462.73 Q2143.72 1462.73 2146.73 1465.9 Q2149.76 1469.05 2149.76 1474.49 Q2149.76 1479.82 2146.61 1483.03 Q2143.47 1486.25 2138.23 1486.25 Q2132.24 1486.25 2129.07 1481.67 Q2125.9 1477.06 2125.9 1468.33 Q2125.9 1460.14 2129.79 1455.28 Q2133.67 1450.39 2140.23 1450.39 Q2141.98 1450.39 2143.77 1450.74 Q2145.57 1451.09 2147.52 1451.78 Z\" fill=\"#000000\" fill-rule=\"nonzero\" fill-opacity=\"1\" /><path clip-path=\"url(#clip420)\" d=\"M2167.82 1454.1 Q2164.21 1454.1 2162.38 1457.66 Q2160.57 1461.2 2160.57 1468.33 Q2160.57 1475.44 2162.38 1479.01 Q2164.21 1482.55 2167.82 1482.55 Q2171.45 1482.55 2173.26 1479.01 Q2175.09 1475.44 2175.09 1468.33 Q2175.09 1461.2 2173.26 1457.66 Q2171.45 1454.1 2167.82 1454.1 M2167.82 1450.39 Q2173.63 1450.39 2176.68 1455 Q2179.76 1459.58 2179.76 1468.33 Q2179.76 1477.06 2176.68 1481.67 Q2173.63 1486.25 2167.82 1486.25 Q2162.01 1486.25 2158.93 1481.67 Q2155.87 1477.06 2155.87 1468.33 Q2155.87 1459.58 2158.93 1455 Q2162.01 1450.39 2167.82 1450.39 Z\" fill=\"#000000\" fill-rule=\"nonzero\" fill-opacity=\"1\" /><path clip-path=\"url(#clip420)\" d=\"M1313.01 1522.27 L1313.01 1532.4 L1325.07 1532.4 L1325.07 1536.95 L1313.01 1536.95 L1313.01 1556.3 Q1313.01 1560.66 1314.18 1561.9 Q1315.39 1563.14 1319.05 1563.14 L1325.07 1563.14 L1325.07 1568.04 L1319.05 1568.04 Q1312.28 1568.04 1309.7 1565.53 Q1307.12 1562.98 1307.12 1556.3 L1307.12 1536.95 L1302.82 1536.95 L1302.82 1532.4 L1307.12 1532.4 L1307.12 1522.27 L1313.01 1522.27 Z\" fill=\"#000000\" fill-rule=\"nonzero\" fill-opacity=\"1\" /><polyline clip-path=\"url(#clip422)\" style=\"stroke:#000000; stroke-linecap:round; stroke-linejoin:round; stroke-width:2; stroke-opacity:0.1; fill:none\" points=\"275.136,1137.26 2352.76,1137.26 \"/>\n",
       "<polyline clip-path=\"url(#clip422)\" style=\"stroke:#000000; stroke-linecap:round; stroke-linejoin:round; stroke-width:2; stroke-opacity:0.1; fill:none\" points=\"275.136,851.335 2352.76,851.335 \"/>\n",
       "<polyline clip-path=\"url(#clip422)\" style=\"stroke:#000000; stroke-linecap:round; stroke-linejoin:round; stroke-width:2; stroke-opacity:0.1; fill:none\" points=\"275.136,565.413 2352.76,565.413 \"/>\n",
       "<polyline clip-path=\"url(#clip422)\" style=\"stroke:#000000; stroke-linecap:round; stroke-linejoin:round; stroke-width:2; stroke-opacity:0.1; fill:none\" points=\"275.136,279.49 2352.76,279.49 \"/>\n",
       "<polyline clip-path=\"url(#clip420)\" style=\"stroke:#000000; stroke-linecap:round; stroke-linejoin:round; stroke-width:4; stroke-opacity:1; fill:none\" points=\"275.136,1423.18 275.136,47.2441 \"/>\n",
       "<polyline clip-path=\"url(#clip420)\" style=\"stroke:#000000; stroke-linecap:round; stroke-linejoin:round; stroke-width:4; stroke-opacity:1; fill:none\" points=\"275.136,1137.26 294.034,1137.26 \"/>\n",
       "<polyline clip-path=\"url(#clip420)\" style=\"stroke:#000000; stroke-linecap:round; stroke-linejoin:round; stroke-width:4; stroke-opacity:1; fill:none\" points=\"275.136,851.335 294.034,851.335 \"/>\n",
       "<polyline clip-path=\"url(#clip420)\" style=\"stroke:#000000; stroke-linecap:round; stroke-linejoin:round; stroke-width:4; stroke-opacity:1; fill:none\" points=\"275.136,565.413 294.034,565.413 \"/>\n",
       "<polyline clip-path=\"url(#clip420)\" style=\"stroke:#000000; stroke-linecap:round; stroke-linejoin:round; stroke-width:4; stroke-opacity:1; fill:none\" points=\"275.136,279.49 294.034,279.49 \"/>\n",
       "<path clip-path=\"url(#clip420)\" d=\"M54.5569 1157.05 L62.1958 1157.05 L62.1958 1130.68 L53.8856 1132.35 L53.8856 1128.09 L62.1495 1126.43 L66.8254 1126.43 L66.8254 1157.05 L74.4642 1157.05 L74.4642 1160.99 L54.5569 1160.99 L54.5569 1157.05 Z\" fill=\"#000000\" fill-rule=\"nonzero\" fill-opacity=\"1\" /><path clip-path=\"url(#clip420)\" d=\"M83.9086 1155.11 L88.7928 1155.11 L88.7928 1160.99 L83.9086 1160.99 L83.9086 1155.11 Z\" fill=\"#000000\" fill-rule=\"nonzero\" fill-opacity=\"1\" /><path clip-path=\"url(#clip420)\" d=\"M108.978 1129.5 Q105.367 1129.5 103.538 1133.07 Q101.733 1136.61 101.733 1143.74 Q101.733 1150.85 103.538 1154.41 Q105.367 1157.95 108.978 1157.95 Q112.612 1157.95 114.418 1154.41 Q116.246 1150.85 116.246 1143.74 Q116.246 1136.61 114.418 1133.07 Q112.612 1129.5 108.978 1129.5 M108.978 1125.8 Q114.788 1125.8 117.844 1130.41 Q120.922 1134.99 120.922 1143.74 Q120.922 1152.47 117.844 1157.07 Q114.788 1161.66 108.978 1161.66 Q103.168 1161.66 100.089 1157.07 Q97.0335 1152.47 97.0335 1143.74 Q97.0335 1134.99 100.089 1130.41 Q103.168 1125.8 108.978 1125.8 Z\" fill=\"#000000\" fill-rule=\"nonzero\" fill-opacity=\"1\" /><path clip-path=\"url(#clip420)\" d=\"M157.311 1135.52 L146.732 1146.15 L157.311 1156.73 L154.556 1159.53 L143.931 1148.9 L133.306 1159.53 L130.575 1156.73 L141.131 1146.15 L130.575 1135.52 L133.306 1132.72 L143.931 1143.35 L154.556 1132.72 L157.311 1135.52 Z\" fill=\"#000000\" fill-rule=\"nonzero\" fill-opacity=\"1\" /><path clip-path=\"url(#clip420)\" d=\"M169.672 1157.05 L177.311 1157.05 L177.311 1130.68 L169.001 1132.35 L169.001 1128.09 L177.265 1126.43 L181.94 1126.43 L181.94 1157.05 L189.579 1157.05 L189.579 1160.99 L169.672 1160.99 L169.672 1157.05 Z\" fill=\"#000000\" fill-rule=\"nonzero\" fill-opacity=\"1\" /><path clip-path=\"url(#clip420)\" d=\"M209.024 1129.5 Q205.413 1129.5 203.584 1133.07 Q201.778 1136.61 201.778 1143.74 Q201.778 1150.85 203.584 1154.41 Q205.413 1157.95 209.024 1157.95 Q212.658 1157.95 214.463 1154.41 Q216.292 1150.85 216.292 1143.74 Q216.292 1136.61 214.463 1133.07 Q212.658 1129.5 209.024 1129.5 M209.024 1125.8 Q214.834 1125.8 217.889 1130.41 Q220.968 1134.99 220.968 1143.74 Q220.968 1152.47 217.889 1157.07 Q214.834 1161.66 209.024 1161.66 Q203.214 1161.66 200.135 1157.07 Q197.079 1152.47 197.079 1143.74 Q197.079 1134.99 200.135 1130.41 Q203.214 1125.8 209.024 1125.8 Z\" fill=\"#000000\" fill-rule=\"nonzero\" fill-opacity=\"1\" /><path clip-path=\"url(#clip420)\" d=\"M222.153 1105.49 L237.068 1105.49 L237.068 1108.69 L225.632 1108.69 L225.632 1115.58 Q226.46 1115.29 227.287 1115.16 Q228.115 1115.01 228.943 1115.01 Q233.645 1115.01 236.39 1117.59 Q239.136 1120.16 239.136 1124.57 Q239.136 1129.1 236.315 1131.62 Q233.494 1134.12 228.36 1134.12 Q226.592 1134.12 224.748 1133.82 Q222.924 1133.52 220.968 1132.92 L220.968 1129.1 Q222.661 1130.02 224.466 1130.47 Q226.272 1130.92 228.284 1130.92 Q231.538 1130.92 233.438 1129.21 Q235.337 1127.5 235.337 1124.57 Q235.337 1121.63 233.438 1119.92 Q231.538 1118.21 228.284 1118.21 Q226.761 1118.21 225.237 1118.55 Q223.733 1118.89 222.153 1119.6 L222.153 1105.49 Z\" fill=\"#000000\" fill-rule=\"nonzero\" fill-opacity=\"1\" /><path clip-path=\"url(#clip420)\" d=\"M57.7745 871.128 L74.0939 871.128 L74.0939 875.063 L52.1495 875.063 L52.1495 871.128 Q54.8115 868.373 59.3949 863.743 Q64.0013 859.091 65.1819 857.748 Q67.4272 855.225 68.3068 853.489 Q69.2096 851.729 69.2096 850.04 Q69.2096 847.285 67.2652 845.549 Q65.3439 843.813 62.2421 843.813 Q60.043 843.813 57.5893 844.577 Q55.1588 845.341 52.381 846.892 L52.381 842.169 Q55.2051 841.035 57.6588 840.456 Q60.1124 839.878 62.1495 839.878 Q67.5198 839.878 70.7142 842.563 Q73.9087 845.248 73.9087 849.739 Q73.9087 851.868 73.0985 853.79 Q72.3115 855.688 70.205 858.28 Q69.6263 858.952 66.5245 862.169 Q63.4226 865.364 57.7745 871.128 Z\" fill=\"#000000\" fill-rule=\"nonzero\" fill-opacity=\"1\" /><path clip-path=\"url(#clip420)\" d=\"M83.9086 869.183 L88.7928 869.183 L88.7928 875.063 L83.9086 875.063 L83.9086 869.183 Z\" fill=\"#000000\" fill-rule=\"nonzero\" fill-opacity=\"1\" /><path clip-path=\"url(#clip420)\" d=\"M108.978 843.581 Q105.367 843.581 103.538 847.146 Q101.733 850.688 101.733 857.817 Q101.733 864.924 103.538 868.489 Q105.367 872.03 108.978 872.03 Q112.612 872.03 114.418 868.489 Q116.246 864.924 116.246 857.817 Q116.246 850.688 114.418 847.146 Q112.612 843.581 108.978 843.581 M108.978 839.878 Q114.788 839.878 117.844 844.484 Q120.922 849.067 120.922 857.817 Q120.922 866.544 117.844 871.151 Q114.788 875.734 108.978 875.734 Q103.168 875.734 100.089 871.151 Q97.0335 866.544 97.0335 857.817 Q97.0335 849.067 100.089 844.484 Q103.168 839.878 108.978 839.878 Z\" fill=\"#000000\" fill-rule=\"nonzero\" fill-opacity=\"1\" /><path clip-path=\"url(#clip420)\" d=\"M157.311 849.6 L146.732 860.225 L157.311 870.803 L154.556 873.604 L143.931 862.979 L133.306 873.604 L130.575 870.803 L141.131 860.225 L130.575 849.6 L133.306 846.799 L143.931 857.424 L154.556 846.799 L157.311 849.6 Z\" fill=\"#000000\" fill-rule=\"nonzero\" fill-opacity=\"1\" /><path clip-path=\"url(#clip420)\" d=\"M169.672 871.128 L177.311 871.128 L177.311 844.762 L169.001 846.429 L169.001 842.169 L177.265 840.503 L181.94 840.503 L181.94 871.128 L189.579 871.128 L189.579 875.063 L169.672 875.063 L169.672 871.128 Z\" fill=\"#000000\" fill-rule=\"nonzero\" fill-opacity=\"1\" /><path clip-path=\"url(#clip420)\" d=\"M209.024 843.581 Q205.413 843.581 203.584 847.146 Q201.778 850.688 201.778 857.817 Q201.778 864.924 203.584 868.489 Q205.413 872.03 209.024 872.03 Q212.658 872.03 214.463 868.489 Q216.292 864.924 216.292 857.817 Q216.292 850.688 214.463 847.146 Q212.658 843.581 209.024 843.581 M209.024 839.878 Q214.834 839.878 217.889 844.484 Q220.968 849.067 220.968 857.817 Q220.968 866.544 217.889 871.151 Q214.834 875.734 209.024 875.734 Q203.214 875.734 200.135 871.151 Q197.079 866.544 197.079 857.817 Q197.079 849.067 200.135 844.484 Q203.214 839.878 209.024 839.878 Z\" fill=\"#000000\" fill-rule=\"nonzero\" fill-opacity=\"1\" /><path clip-path=\"url(#clip420)\" d=\"M222.153 819.572 L237.068 819.572 L237.068 822.77 L225.632 822.77 L225.632 829.653 Q226.46 829.371 227.287 829.239 Q228.115 829.089 228.943 829.089 Q233.645 829.089 236.39 831.666 Q239.136 834.242 239.136 838.643 Q239.136 843.176 236.315 845.696 Q233.494 848.198 228.36 848.198 Q226.592 848.198 224.748 847.897 Q222.924 847.596 220.968 846.994 L220.968 843.176 Q222.661 844.098 224.466 844.549 Q226.272 845 228.284 845 Q231.538 845 233.438 843.289 Q235.337 841.577 235.337 838.643 Q235.337 835.709 233.438 833.998 Q231.538 832.286 228.284 832.286 Q226.761 832.286 225.237 832.625 Q223.733 832.963 222.153 833.678 L222.153 819.572 Z\" fill=\"#000000\" fill-rule=\"nonzero\" fill-opacity=\"1\" /><path clip-path=\"url(#clip420)\" d=\"M67.9133 570.506 Q71.2698 571.224 73.1448 573.492 Q75.0429 575.761 75.0429 579.094 Q75.0429 584.21 71.5244 587.011 Q68.0059 589.812 61.5245 589.812 Q59.3486 589.812 57.0338 589.372 Q54.7421 588.955 52.2884 588.099 L52.2884 583.585 Q54.2328 584.719 56.5477 585.298 Q58.8625 585.876 61.3856 585.876 Q65.7837 585.876 68.0754 584.14 Q70.3902 582.404 70.3902 579.094 Q70.3902 576.038 68.2374 574.326 Q66.1078 572.589 62.2884 572.589 L58.2606 572.589 L58.2606 568.747 L62.4735 568.747 Q65.9226 568.747 67.7513 567.381 Q69.58 565.992 69.58 563.4 Q69.58 560.738 67.6819 559.326 Q65.8069 557.89 62.2884 557.89 Q60.3671 557.89 58.168 558.307 Q55.969 558.724 53.3301 559.603 L53.3301 555.437 Q55.9921 554.696 58.3069 554.326 Q60.6449 553.955 62.705 553.955 Q68.0291 553.955 71.1309 556.386 Q74.2327 558.793 74.2327 562.914 Q74.2327 565.784 72.5892 567.775 Q70.9457 569.742 67.9133 570.506 Z\" fill=\"#000000\" fill-rule=\"nonzero\" fill-opacity=\"1\" /><path clip-path=\"url(#clip420)\" d=\"M83.9086 583.261 L88.7928 583.261 L88.7928 589.14 L83.9086 589.14 L83.9086 583.261 Z\" fill=\"#000000\" fill-rule=\"nonzero\" fill-opacity=\"1\" /><path clip-path=\"url(#clip420)\" d=\"M108.978 557.659 Q105.367 557.659 103.538 561.224 Q101.733 564.765 101.733 571.895 Q101.733 579.001 103.538 582.566 Q105.367 586.108 108.978 586.108 Q112.612 586.108 114.418 582.566 Q116.246 579.001 116.246 571.895 Q116.246 564.765 114.418 561.224 Q112.612 557.659 108.978 557.659 M108.978 553.955 Q114.788 553.955 117.844 558.562 Q120.922 563.145 120.922 571.895 Q120.922 580.622 117.844 585.228 Q114.788 589.812 108.978 589.812 Q103.168 589.812 100.089 585.228 Q97.0335 580.622 97.0335 571.895 Q97.0335 563.145 100.089 558.562 Q103.168 553.955 108.978 553.955 Z\" fill=\"#000000\" fill-rule=\"nonzero\" fill-opacity=\"1\" /><path clip-path=\"url(#clip420)\" d=\"M157.311 563.677 L146.732 574.302 L157.311 584.881 L154.556 587.682 L143.931 577.057 L133.306 587.682 L130.575 584.881 L141.131 574.302 L130.575 563.677 L133.306 560.877 L143.931 571.501 L154.556 560.877 L157.311 563.677 Z\" fill=\"#000000\" fill-rule=\"nonzero\" fill-opacity=\"1\" /><path clip-path=\"url(#clip420)\" d=\"M169.672 585.205 L177.311 585.205 L177.311 558.84 L169.001 560.506 L169.001 556.247 L177.265 554.58 L181.94 554.58 L181.94 585.205 L189.579 585.205 L189.579 589.14 L169.672 589.14 L169.672 585.205 Z\" fill=\"#000000\" fill-rule=\"nonzero\" fill-opacity=\"1\" /><path clip-path=\"url(#clip420)\" d=\"M209.024 557.659 Q205.413 557.659 203.584 561.224 Q201.778 564.765 201.778 571.895 Q201.778 579.001 203.584 582.566 Q205.413 586.108 209.024 586.108 Q212.658 586.108 214.463 582.566 Q216.292 579.001 216.292 571.895 Q216.292 564.765 214.463 561.224 Q212.658 557.659 209.024 557.659 M209.024 553.955 Q214.834 553.955 217.889 558.562 Q220.968 563.145 220.968 571.895 Q220.968 580.622 217.889 585.228 Q214.834 589.812 209.024 589.812 Q203.214 589.812 200.135 585.228 Q197.079 580.622 197.079 571.895 Q197.079 563.145 200.135 558.562 Q203.214 553.955 209.024 553.955 Z\" fill=\"#000000\" fill-rule=\"nonzero\" fill-opacity=\"1\" /><path clip-path=\"url(#clip420)\" d=\"M222.153 533.65 L237.068 533.65 L237.068 536.847 L225.632 536.847 L225.632 543.731 Q226.46 543.449 227.287 543.317 Q228.115 543.167 228.943 543.167 Q233.645 543.167 236.39 545.743 Q239.136 548.32 239.136 552.721 Q239.136 557.254 236.315 559.774 Q233.494 562.275 228.36 562.275 Q226.592 562.275 224.748 561.974 Q222.924 561.673 220.968 561.072 L220.968 557.254 Q222.661 558.175 224.466 558.627 Q226.272 559.078 228.284 559.078 Q231.538 559.078 233.438 557.366 Q235.337 555.655 235.337 552.721 Q235.337 549.787 233.438 548.075 Q231.538 546.364 228.284 546.364 Q226.761 546.364 225.237 546.702 Q223.733 547.041 222.153 547.756 L222.153 533.65 Z\" fill=\"#000000\" fill-rule=\"nonzero\" fill-opacity=\"1\" /><path clip-path=\"url(#clip420)\" d=\"M66.5939 272.732 L54.7884 291.181 L66.5939 291.181 L66.5939 272.732 M65.367 268.658 L71.2466 268.658 L71.2466 291.181 L76.1772 291.181 L76.1772 295.07 L71.2466 295.07 L71.2466 303.218 L66.5939 303.218 L66.5939 295.07 L50.9921 295.07 L50.9921 290.556 L65.367 268.658 Z\" fill=\"#000000\" fill-rule=\"nonzero\" fill-opacity=\"1\" /><path clip-path=\"url(#clip420)\" d=\"M83.9086 297.338 L88.7928 297.338 L88.7928 303.218 L83.9086 303.218 L83.9086 297.338 Z\" fill=\"#000000\" fill-rule=\"nonzero\" fill-opacity=\"1\" /><path clip-path=\"url(#clip420)\" d=\"M108.978 271.737 Q105.367 271.737 103.538 275.301 Q101.733 278.843 101.733 285.973 Q101.733 293.079 103.538 296.644 Q105.367 300.185 108.978 300.185 Q112.612 300.185 114.418 296.644 Q116.246 293.079 116.246 285.973 Q116.246 278.843 114.418 275.301 Q112.612 271.737 108.978 271.737 M108.978 268.033 Q114.788 268.033 117.844 272.639 Q120.922 277.223 120.922 285.973 Q120.922 294.699 117.844 299.306 Q114.788 303.889 108.978 303.889 Q103.168 303.889 100.089 299.306 Q97.0335 294.699 97.0335 285.973 Q97.0335 277.223 100.089 272.639 Q103.168 268.033 108.978 268.033 Z\" fill=\"#000000\" fill-rule=\"nonzero\" fill-opacity=\"1\" /><path clip-path=\"url(#clip420)\" d=\"M157.311 277.755 L146.732 288.38 L157.311 298.959 L154.556 301.76 L143.931 291.135 L133.306 301.76 L130.575 298.959 L141.131 288.38 L130.575 277.755 L133.306 274.954 L143.931 285.579 L154.556 274.954 L157.311 277.755 Z\" fill=\"#000000\" fill-rule=\"nonzero\" fill-opacity=\"1\" /><path clip-path=\"url(#clip420)\" d=\"M169.672 299.283 L177.311 299.283 L177.311 272.917 L169.001 274.584 L169.001 270.325 L177.265 268.658 L181.94 268.658 L181.94 299.283 L189.579 299.283 L189.579 303.218 L169.672 303.218 L169.672 299.283 Z\" fill=\"#000000\" fill-rule=\"nonzero\" fill-opacity=\"1\" /><path clip-path=\"url(#clip420)\" d=\"M209.024 271.737 Q205.413 271.737 203.584 275.301 Q201.778 278.843 201.778 285.973 Q201.778 293.079 203.584 296.644 Q205.413 300.185 209.024 300.185 Q212.658 300.185 214.463 296.644 Q216.292 293.079 216.292 285.973 Q216.292 278.843 214.463 275.301 Q212.658 271.737 209.024 271.737 M209.024 268.033 Q214.834 268.033 217.889 272.639 Q220.968 277.223 220.968 285.973 Q220.968 294.699 217.889 299.306 Q214.834 303.889 209.024 303.889 Q203.214 303.889 200.135 299.306 Q197.079 294.699 197.079 285.973 Q197.079 277.223 200.135 272.639 Q203.214 268.033 209.024 268.033 Z\" fill=\"#000000\" fill-rule=\"nonzero\" fill-opacity=\"1\" /><path clip-path=\"url(#clip420)\" d=\"M222.153 247.727 L237.068 247.727 L237.068 250.925 L225.632 250.925 L225.632 257.808 Q226.46 257.526 227.287 257.395 Q228.115 257.244 228.943 257.244 Q233.645 257.244 236.39 259.821 Q239.136 262.398 239.136 266.799 Q239.136 271.331 236.315 273.851 Q233.494 276.353 228.36 276.353 Q226.592 276.353 224.748 276.052 Q222.924 275.751 220.968 275.149 L220.968 271.331 Q222.661 272.253 224.466 272.704 Q226.272 273.156 228.284 273.156 Q231.538 273.156 233.438 271.444 Q235.337 269.733 235.337 266.799 Q235.337 263.865 233.438 262.153 Q231.538 260.442 228.284 260.442 Q226.761 260.442 225.237 260.78 Q223.733 261.119 222.153 261.833 L222.153 247.727 Z\" fill=\"#000000\" fill-rule=\"nonzero\" fill-opacity=\"1\" /><polyline clip-path=\"url(#clip422)\" style=\"stroke:#009af9; stroke-linecap:round; stroke-linejoin:round; stroke-width:4; stroke-opacity:1; fill:none\" points=\"275.136,1423.15 277.216,1423.12 279.296,1423.05 281.375,1422.91 283.455,1422.64 285.535,1422.22 287.615,1421.69 289.694,1421.2 291.774,1420.85 293.854,1420.66 295.933,1420.57 298.013,1420.55 300.093,1420.55 302.172,1420.57 304.252,1420.6 306.332,1420.62 308.412,1420.65 310.491,1420.68 312.571,1420.71 314.651,1420.74 316.73,1420.77 318.81,1420.8 320.89,1420.83 322.969,1420.86 325.049,1420.89 327.129,1420.91 329.209,1420.94 331.288,1420.97 333.368,1421 335.448,1421.02 337.527,1421.05 339.607,1421.07 341.687,1421.1 343.766,1421.13 345.846,1421.15 347.926,1421.17 350.006,1421.2 352.085,1421.22 354.165,1421.25 356.245,1421.27 358.324,1421.29 360.404,1421.32 362.484,1421.34 364.563,1421.36 366.643,1421.38 368.723,1421.4 370.803,1421.43 372.882,1421.45 374.962,1421.47 377.042,1421.49 379.121,1421.51 381.201,1421.53 383.281,1421.55 385.36,1421.57 387.44,1421.59 389.52,1421.61 391.6,1421.63 393.679,1421.65 395.759,1421.67 397.839,1421.68 399.918,1421.7 401.998,1421.72 404.078,1421.74 406.157,1421.75 408.237,1421.77 410.317,1421.79 412.397,1421.81 414.476,1421.82 416.556,1421.84 418.636,1421.86 420.715,1421.87 422.795,1421.89 424.875,1421.9 426.954,1421.92 429.034,1421.93 431.114,1421.95 433.194,1421.96 435.273,1421.98 437.353,1421.99 439.433,1422.01 441.512,1422.02 443.592,1422.04 445.672,1422.05 447.751,1422.06 449.831,1422.08 451.911,1422.09 453.991,1422.1 456.07,1422.12 458.15,1422.13 460.23,1422.14 462.309,1422.15 464.389,1422.17 466.469,1422.18 468.548,1422.19 470.628,1422.2 472.708,1422.22 474.787,1422.23 476.867,1422.24 478.947,1422.25 481.027,1422.26 483.106,1422.27 485.186,1422.28 487.266,1422.29 489.345,1422.3 491.425,1422.32 493.505,1422.33 495.584,1422.34 497.664,1422.35 499.744,1422.36 501.824,1422.37 503.903,1422.38 505.983,1422.39 508.063,1422.4 510.142,1422.41 512.222,1422.41 514.302,1422.42 516.381,1422.43 518.461,1422.44 520.541,1422.45 522.621,1422.46 524.7,1422.47 526.78,1422.48 528.86,1422.49 530.939,1422.49 533.019,1422.5 535.099,1422.51 537.178,1422.52 539.258,1422.53 541.338,1422.53 543.418,1422.54 545.497,1422.55 547.577,1422.56 549.657,1422.57 551.736,1422.57 553.816,1422.58 555.896,1422.59 557.975,1422.59 560.055,1422.6 562.135,1422.61 564.215,1422.62 566.294,1422.62 568.374,1422.63 570.454,1422.64 572.533,1422.64 574.613,1422.65 576.693,1422.66 578.772,1422.66 580.852,1422.67 582.932,1422.67 585.012,1422.68 587.091,1422.69 589.171,1422.69 591.251,1422.7 593.33,1422.7 595.41,1422.71 597.49,1422.72 599.569,1422.72 601.649,1422.73 603.729,1422.73 605.809,1422.74 607.888,1422.74 609.968,1422.75 612.048,1422.75 614.127,1422.76 616.207,1422.76 618.287,1422.77 620.366,1422.77 622.446,1422.78 624.526,1422.78 626.606,1422.79 628.685,1422.79 630.765,1422.8 632.845,1422.8 634.924,1422.81 637.004,1422.81 639.084,1422.82 641.163,1422.82 643.243,1422.82 645.323,1422.83 647.403,1422.83 649.482,1422.84 651.562,1422.84 653.642,1422.85 655.721,1422.85 657.801,1422.85 659.881,1422.86 661.96,1422.86 664.04,1422.87 666.12,1422.87 668.2,1422.87 670.279,1422.88 672.359,1422.88 674.439,1422.88 676.518,1422.89 678.598,1422.89 680.678,1422.89 682.757,1422.9 684.837,1422.9 686.917,1422.91 688.997,1422.91 691.076,1422.91 693.156,1422.91 695.236,1422.92 697.315,1422.92 699.395,1422.92 701.475,1422.93 703.554,1422.93 705.634,1422.93 707.714,1422.94 709.794,1422.94 711.873,1422.94 713.953,1422.95 716.033,1422.95 718.112,1422.95 720.192,1422.95 722.272,1422.96 724.351,1422.96 726.431,1422.96 728.511,1422.96 730.591,1422.97 732.67,1422.97 734.75,1422.97 736.83,1422.97 738.909,1422.98 740.989,1422.98 743.069,1422.98 745.148,1422.98 747.228,1422.99 749.308,1422.99 751.387,1422.99 753.467,1422.99 755.547,1423 757.627,1423 759.706,1423 761.786,1423 763.866,1423 765.945,1423.01 768.025,1423.01 770.105,1423.01 772.184,1423.01 774.264,1423.02 776.344,1423.02 778.424,1423.02 780.503,1423.02 782.583,1423.02 784.663,1423.02 786.742,1423.03 788.822,1423.03 790.902,1423.03 792.981,1423.03 795.061,1423.03 797.141,1423.04 799.221,1423.04 801.3,1423.04 803.38,1423.04 805.46,1423.04 807.539,1423.04 809.619,1423.05 811.699,1423.05 813.778,1423.05 815.858,1423.05 817.938,1423.05 820.018,1423.05 822.097,1423.06 824.177,1423.06 826.257,1423.06 828.336,1423.06 830.416,1423.06 832.496,1423.06 834.575,1423.06 836.655,1423.07 838.735,1423.07 840.815,1423.07 842.894,1423.07 844.974,1423.07 847.054,1423.07 849.133,1423.07 851.213,1423.07 853.293,1423.08 855.372,1423.08 857.452,1423.08 859.532,1423.08 861.612,1423.08 863.691,1423.08 865.771,1423.08 867.851,1423.08 869.93,1423.09 872.01,1423.09 874.09,1423.09 876.169,1423.09 878.249,1423.09 880.329,1423.09 882.409,1423.09 884.488,1423.09 886.568,1423.09 888.648,1423.1 890.727,1423.1 892.807,1423.1 894.887,1423.1 896.966,1423.1 899.046,1423.1 901.126,1423.1 903.206,1423.1 905.285,1423.1 907.365,1423.1 909.445,1423.11 911.524,1423.11 913.604,1423.11 915.684,1423.11 917.763,1423.11 919.843,1423.11 921.923,1423.11 924.003,1423.11 926.082,1423.11 928.162,1423.11 930.242,1423.11 932.321,1423.11 934.401,1423.12 936.481,1423.12 938.56,1423.12 940.64,1423.12 942.72,1423.12 944.8,1423.12 946.879,1423.12 948.959,1423.12 951.039,1423.12 953.118,1423.12 955.198,1423.12 957.278,1423.12 959.357,1423.12 961.437,1423.12 963.517,1423.13 965.597,1423.13 967.676,1423.13 969.756,1423.13 971.836,1423.13 973.915,1423.13 975.995,1423.13 978.075,1423.13 980.154,1423.13 982.234,1423.13 984.314,1423.13 986.394,1423.13 988.473,1423.13 990.553,1423.13 992.633,1423.13 994.712,1423.13 996.792,1423.14 998.872,1423.14 1000.95,1423.14 1003.03,1423.14 1005.11,1423.14 1007.19,1423.14 1009.27,1423.14 1011.35,1423.14 1013.43,1423.14 1015.51,1423.14 1017.59,1423.14 1019.67,1423.14 1021.75,1423.14 1023.83,1423.14 1025.91,1423.14 1027.99,1423.14 1030.07,1423.14 1032.15,1423.14 1034.23,1423.14 1036.31,1423.14 1038.39,1423.14 1040.47,1423.15 1042.55,1423.15 1044.63,1423.15 1046.7,1423.15 1048.78,1423.15 1050.86,1423.15 1052.94,1423.15 1055.02,1423.15 1057.1,1423.15 1059.18,1423.15 1061.26,1423.15 1063.34,1423.15 1065.42,1423.15 1067.5,1423.15 1069.58,1423.15 1071.66,1423.15 1073.74,1423.15 1075.82,1423.15 1077.9,1423.15 1079.98,1423.15 1082.06,1423.15 1084.14,1423.15 1086.22,1423.15 1088.3,1423.15 1090.38,1423.15 1092.46,1423.15 1094.54,1423.15 1096.62,1423.15 1098.7,1423.16 1100.78,1423.16 1102.86,1423.16 1104.94,1423.16 1107.02,1423.16 1109.1,1423.16 1111.18,1423.16 1113.26,1423.16 1115.33,1423.16 1117.41,1423.16 1119.49,1423.16 1121.57,1423.16 1123.65,1423.16 1125.73,1423.16 1127.81,1423.16 1129.89,1423.16 1131.97,1423.16 1134.05,1423.16 1136.13,1423.16 1138.21,1423.16 1140.29,1423.16 1142.37,1423.16 1144.45,1423.16 1146.53,1423.16 1148.61,1423.16 1150.69,1423.16 1152.77,1423.16 1154.85,1423.16 1156.93,1423.16 1159.01,1423.16 1161.09,1423.16 1163.17,1423.16 1165.25,1423.16 1167.33,1423.16 1169.41,1423.16 1171.49,1423.16 1173.57,1423.16 1175.65,1423.16 1177.73,1423.16 1179.81,1423.16 1181.89,1423.16 1183.96,1423.16 1186.04,1423.17 1188.12,1423.17 1190.2,1423.17 1192.28,1423.17 1194.36,1423.17 1196.44,1423.17 1198.52,1423.17 1200.6,1423.17 1202.68,1423.17 1204.76,1423.17 1206.84,1423.17 1208.92,1423.17 1211,1423.17 1213.08,1423.17 1215.16,1423.17 1217.24,1423.17 1219.32,1423.17 1221.4,1423.17 1223.48,1423.17 1225.56,1423.17 1227.64,1423.17 1229.72,1423.17 1231.8,1423.17 1233.88,1423.17 1235.96,1423.17 1238.04,1423.17 1240.12,1423.17 1242.2,1423.17 1244.28,1423.17 1246.36,1423.17 1248.44,1423.17 1250.52,1423.17 1252.6,1423.17 1254.67,1423.17 1256.75,1423.17 1258.83,1423.17 1260.91,1423.17 1262.99,1423.17 1265.07,1423.17 1267.15,1423.17 1269.23,1423.17 1271.31,1423.17 1273.39,1423.17 1275.47,1423.17 1277.55,1423.17 1279.63,1423.17 1281.71,1423.17 1283.79,1423.17 1285.87,1423.17 1287.95,1423.17 1290.03,1423.17 1292.11,1423.17 1294.19,1423.17 1296.27,1423.17 1298.35,1423.17 1300.43,1423.17 1302.51,1423.17 1304.59,1423.17 1306.67,1423.17 1308.75,1423.17 1310.83,1423.17 1312.91,1423.17 1314.99,1423.17 1317.07,1423.17 1319.15,1423.17 1321.23,1423.17 1323.3,1423.17 1325.38,1423.17 1327.46,1423.17 1329.54,1423.17 1331.62,1423.17 1333.7,1423.17 1335.78,1423.17 1337.86,1423.17 1339.94,1423.17 1342.02,1423.17 1344.1,1423.17 1346.18,1423.17 1348.26,1423.17 1350.34,1423.17 1352.42,1423.17 1354.5,1423.17 1356.58,1423.17 1358.66,1423.17 1360.74,1423.17 1362.82,1423.17 1364.9,1423.17 1366.98,1423.17 1369.06,1423.17 1371.14,1423.17 1373.22,1423.17 1375.3,1423.18 1377.38,1423.18 1379.46,1423.18 1381.54,1423.18 1383.62,1423.18 1385.7,1423.18 1387.78,1423.18 1389.86,1423.18 1391.93,1423.18 1394.01,1423.18 1396.09,1423.18 1398.17,1423.18 1400.25,1423.18 1402.33,1423.18 1404.41,1423.18 1406.49,1423.18 1408.57,1423.18 1410.65,1423.18 1412.73,1423.18 1414.81,1423.18 1416.89,1423.18 1418.97,1423.18 1421.05,1423.18 1423.13,1423.18 1425.21,1423.18 1427.29,1423.18 1429.37,1423.18 1431.45,1423.18 1433.53,1423.18 1435.61,1423.18 1437.69,1423.18 1439.77,1423.18 1441.85,1423.18 1443.93,1423.18 1446.01,1423.18 1448.09,1423.18 1450.17,1423.18 1452.25,1423.18 1454.33,1423.18 1456.41,1423.18 1458.49,1423.18 1460.56,1423.18 1462.64,1423.18 1464.72,1423.18 1466.8,1423.18 1468.88,1423.18 1470.96,1423.18 1473.04,1423.18 1475.12,1423.18 1477.2,1423.18 1479.28,1423.18 1481.36,1423.18 1483.44,1423.18 1485.52,1423.18 1487.6,1423.18 1489.68,1423.18 1491.76,1423.18 1493.84,1423.18 1495.92,1423.18 1498,1423.18 1500.08,1423.18 1502.16,1423.18 1504.24,1423.18 1506.32,1423.18 1508.4,1423.18 1510.48,1423.18 1512.56,1423.18 1514.64,1423.18 1516.72,1423.18 1518.8,1423.18 1520.88,1423.18 1522.96,1423.18 1525.04,1423.18 1527.12,1423.18 1529.2,1423.18 1531.27,1423.18 1533.35,1423.18 1535.43,1423.18 1537.51,1423.18 1539.59,1423.18 1541.67,1423.18 1543.75,1423.18 1545.83,1423.18 1547.91,1423.18 1549.99,1423.18 1552.07,1423.18 1554.15,1423.18 1556.23,1423.18 1558.31,1423.18 1560.39,1423.18 1562.47,1423.18 1564.55,1423.18 1566.63,1423.18 1568.71,1423.18 1570.79,1423.18 1572.87,1423.18 1574.95,1423.18 1577.03,1423.18 1579.11,1423.18 1581.19,1423.18 1583.27,1423.18 1585.35,1423.18 1587.43,1423.18 1589.51,1423.18 1591.59,1423.18 1593.67,1423.18 1595.75,1423.18 1597.83,1423.18 1599.9,1423.18 1601.98,1423.18 1604.06,1423.18 1606.14,1423.18 1608.22,1423.18 1610.3,1423.18 1612.38,1423.18 1614.46,1423.18 1616.54,1423.18 1618.62,1423.18 1620.7,1423.18 1622.78,1423.18 1624.86,1423.18 1626.94,1423.18 1629.02,1423.18 1631.1,1423.18 1633.18,1423.18 1635.26,1423.18 1637.34,1423.18 1639.42,1423.18 1641.5,1423.18 1643.58,1423.18 1645.66,1423.18 1647.74,1423.18 1649.82,1423.18 1651.9,1423.18 1653.98,1423.18 1656.06,1423.18 1658.14,1423.18 1660.22,1423.18 1662.3,1423.18 1664.38,1423.18 1666.46,1423.18 1668.53,1423.18 1670.61,1423.18 1672.69,1423.18 1674.77,1423.18 1676.85,1423.18 1678.93,1423.18 1681.01,1423.18 1683.09,1423.18 1685.17,1423.18 1687.25,1423.18 1689.33,1423.18 1691.41,1423.18 1693.49,1423.18 1695.57,1423.18 1697.65,1423.18 1699.73,1423.18 1701.81,1423.18 1703.89,1423.18 1705.97,1423.18 1708.05,1423.18 1710.13,1423.18 1712.21,1423.18 1714.29,1423.18 1716.37,1423.18 1718.45,1423.18 1720.53,1423.18 1722.61,1423.18 1724.69,1423.18 1726.77,1423.18 1728.85,1423.18 1730.93,1423.18 1733.01,1423.18 1735.09,1423.18 1737.16,1423.18 1739.24,1423.18 1741.32,1423.18 1743.4,1423.18 1745.48,1423.18 1747.56,1423.18 1749.64,1423.18 1751.72,1423.18 1753.8,1423.18 1755.88,1423.18 1757.96,1423.18 1760.04,1423.18 1762.12,1423.18 1764.2,1423.18 1766.28,1423.18 1768.36,1423.18 1770.44,1423.18 1772.52,1423.18 1774.6,1423.18 1776.68,1423.18 1778.76,1423.18 1780.84,1423.18 1782.92,1423.18 1785,1423.18 1787.08,1423.18 1789.16,1423.18 1791.24,1423.18 1793.32,1423.18 1795.4,1423.18 1797.48,1423.18 1799.56,1423.18 1801.64,1423.18 1803.72,1423.18 1805.8,1423.18 1807.87,1423.18 1809.95,1423.18 1812.03,1423.18 1814.11,1423.18 1816.19,1423.18 1818.27,1423.18 1820.35,1423.18 1822.43,1423.18 1824.51,1423.18 1826.59,1423.18 1828.67,1423.18 1830.75,1423.18 1832.83,1423.18 1834.91,1423.18 1836.99,1423.18 1839.07,1423.18 1841.15,1423.18 1843.23,1423.18 1845.31,1423.18 1847.39,1423.18 1849.47,1423.18 1851.55,1423.18 1853.63,1423.18 1855.71,1423.18 1857.79,1423.18 1859.87,1423.18 1861.95,1423.18 1864.03,1423.18 1866.11,1423.18 1868.19,1423.18 1870.27,1423.18 1872.35,1423.18 1874.43,1423.18 1876.5,1423.18 1878.58,1423.18 1880.66,1423.18 1882.74,1423.18 1884.82,1423.18 1886.9,1423.18 1888.98,1423.18 1891.06,1423.18 1893.14,1423.18 1895.22,1423.18 1897.3,1423.18 1899.38,1423.18 1901.46,1423.18 1903.54,1423.18 1905.62,1423.18 1907.7,1423.18 1909.78,1423.18 1911.86,1423.18 1913.94,1423.18 1916.02,1423.18 1918.1,1423.18 1920.18,1423.18 1922.26,1423.18 1924.34,1423.18 1926.42,1423.18 1928.5,1423.18 1930.58,1423.18 1932.66,1423.18 1934.74,1423.18 1936.82,1423.18 1938.9,1423.18 1940.98,1423.18 1943.06,1423.18 1945.13,1423.18 1947.21,1423.18 1949.29,1423.18 1951.37,1423.18 1953.45,1423.18 1955.53,1423.18 1957.61,1423.18 1959.69,1423.18 1961.77,1423.18 1963.85,1423.18 1965.93,1423.18 1968.01,1423.18 1970.09,1423.18 1972.17,1423.18 1974.25,1423.18 1976.33,1423.18 1978.41,1423.18 1980.49,1423.18 1982.57,1423.18 1984.65,1423.18 1986.73,1423.18 1988.81,1423.18 1990.89,1423.18 1992.97,1423.18 1995.05,1423.18 1997.13,1423.18 1999.21,1423.18 2001.29,1423.18 2003.37,1423.18 2005.45,1423.18 2007.53,1423.18 2009.61,1423.18 2011.69,1423.18 2013.76,1423.18 2015.84,1423.18 2017.92,1423.18 2020,1423.18 2022.08,1423.18 2024.16,1423.18 2026.24,1423.18 2028.32,1423.18 2030.4,1423.18 2032.48,1423.18 2034.56,1423.18 2036.64,1423.18 2038.72,1423.18 2040.8,1423.18 2042.88,1423.18 2044.96,1423.18 2047.04,1423.18 2049.12,1423.18 2051.2,1423.18 2053.28,1423.18 2055.36,1423.18 2057.44,1423.18 2059.52,1423.18 2061.6,1423.18 2063.68,1423.18 2065.76,1423.18 2067.84,1423.18 2069.92,1423.18 2072,1423.18 2074.08,1423.18 2076.16,1423.18 2078.24,1423.18 2080.32,1423.18 2082.4,1423.18 2084.47,1423.18 2086.55,1423.18 2088.63,1423.18 2090.71,1423.18 2092.79,1423.18 2094.87,1423.18 2096.95,1423.18 2099.03,1423.18 2101.11,1423.18 2103.19,1423.18 2105.27,1423.18 2107.35,1423.18 2109.43,1423.18 2111.51,1423.18 2113.59,1423.18 2115.67,1423.18 2117.75,1423.18 2119.83,1423.18 2121.91,1423.18 2123.99,1423.18 2126.07,1423.18 2128.15,1423.18 2130.23,1423.18 2132.31,1423.18 2134.39,1423.18 2136.47,1423.18 2138.55,1423.18 2140.63,1423.18 2142.71,1423.18 2144.79,1423.18 2146.87,1423.18 2148.95,1423.18 2151.03,1423.18 2153.1,1423.18 2155.18,1423.18 2157.26,1423.18 2159.34,1423.18 2161.42,1423.18 2163.5,1423.18 2165.58,1423.18 2167.66,1423.18 2169.74,1423.18 2171.82,1423.18 2173.9,1423.18 2175.98,1423.18 2178.06,1423.18 2180.14,1423.18 2182.22,1423.18 2184.3,1423.18 2186.38,1423.18 2188.46,1423.18 2190.54,1423.18 2192.62,1423.18 2194.7,1423.18 2196.78,1423.18 2198.86,1423.18 2200.94,1423.18 2203.02,1423.18 2205.1,1423.18 2207.18,1423.18 2209.26,1423.18 2211.34,1423.18 2213.42,1423.18 2215.5,1423.18 2217.58,1423.18 2219.66,1423.18 2221.73,1423.18 2223.81,1423.18 2225.89,1423.18 2227.97,1423.18 2230.05,1423.18 2232.13,1423.18 2234.21,1423.18 2236.29,1423.18 2238.37,1423.18 2240.45,1423.18 2242.53,1423.18 2244.61,1423.18 2246.69,1423.18 2248.77,1423.18 2250.85,1423.18 2252.93,1423.18 2255.01,1423.18 2257.09,1423.18 2259.17,1423.18 2261.25,1423.18 2263.33,1423.18 2265.41,1423.18 2267.49,1423.18 2269.57,1423.18 2271.65,1423.18 2273.73,1423.18 2275.81,1423.18 2277.89,1423.18 2279.97,1423.18 2282.05,1423.18 2284.13,1423.18 2286.21,1423.18 2288.29,1423.18 2290.36,1423.18 2292.44,1423.18 2294.52,1423.18 2296.6,1423.18 2298.68,1423.18 2300.76,1423.18 2302.84,1423.18 2304.92,1423.18 2307,1423.18 2309.08,1423.18 2311.16,1423.18 2313.24,1423.18 2315.32,1423.18 2317.4,1423.18 2319.48,1423.18 2321.56,1423.18 2323.64,1423.18 2325.72,1423.18 2327.8,1423.18 2329.88,1423.18 2331.96,1423.18 2334.04,1423.18 2336.12,1423.18 2338.2,1423.18 2340.28,1423.18 2342.36,1423.18 2344.44,1423.18 2346.52,1423.18 2348.6,1423.18 2350.68,1423.18 2352.76,1423.18 \"/>\n",
       "<polyline clip-path=\"url(#clip422)\" style=\"stroke:#e26f46; stroke-linecap:round; stroke-linejoin:round; stroke-width:4; stroke-opacity:1; fill:none\" points=\"275.136,1423.15 277.216,1423.12 279.296,1423.05 281.375,1422.91 283.455,1422.66 285.535,1422.26 287.615,1421.75 289.694,1421.26 291.774,1420.9 293.854,1420.69 295.933,1420.59 298.013,1420.56 300.093,1420.56 302.172,1420.57 304.252,1420.6 306.332,1420.62 308.412,1420.65 310.491,1420.68 312.571,1420.71 314.651,1420.74 316.73,1420.77 318.81,1420.8 320.89,1420.83 322.969,1420.86 325.049,1420.88 327.129,1420.91 329.209,1420.94 331.288,1420.97 333.368,1420.99 335.448,1421.02 337.527,1421.05 339.607,1421.07 341.687,1421.1 343.766,1421.12 345.846,1421.15 347.926,1421.17 350.006,1421.2 352.085,1421.22 354.165,1421.24 356.245,1421.27 358.324,1421.29 360.404,1421.31 362.484,1421.34 364.563,1421.36 366.643,1421.38 368.723,1421.4 370.803,1421.42 372.882,1421.45 374.962,1421.47 377.042,1421.49 379.121,1421.51 381.201,1421.53 383.281,1421.55 385.36,1421.57 387.44,1421.59 389.52,1421.61 391.6,1421.63 393.679,1421.64 395.759,1421.66 397.839,1421.68 399.918,1421.7 401.998,1421.72 404.078,1421.74 406.157,1421.75 408.237,1421.77 410.317,1421.79 412.397,1421.8 414.476,1421.82 416.556,1421.84 418.636,1421.85 420.715,1421.87 422.795,1421.89 424.875,1421.9 426.954,1421.92 429.034,1421.93 431.114,1421.95 433.194,1421.96 435.273,1421.98 437.353,1421.99 439.433,1422.01 441.512,1422.02 443.592,1422.03 445.672,1422.05 447.751,1422.06 449.831,1422.07 451.911,1422.09 453.991,1422.1 456.07,1422.11 458.15,1422.13 460.23,1422.14 462.309,1422.15 464.389,1422.17 466.469,1422.18 468.548,1422.19 470.628,1422.2 472.708,1422.21 474.787,1422.23 476.867,1422.24 478.947,1422.25 481.027,1422.26 483.106,1422.27 485.186,1422.28 487.266,1422.29 489.345,1422.3 491.425,1422.31 493.505,1422.32 495.584,1422.33 497.664,1422.35 499.744,1422.36 501.824,1422.37 503.903,1422.38 505.983,1422.38 508.063,1422.39 510.142,1422.4 512.222,1422.41 514.302,1422.42 516.381,1422.43 518.461,1422.44 520.541,1422.45 522.621,1422.46 524.7,1422.47 526.78,1422.48 528.86,1422.48 530.939,1422.49 533.019,1422.5 535.099,1422.51 537.178,1422.52 539.258,1422.53 541.338,1422.53 543.418,1422.54 545.497,1422.55 547.577,1422.56 549.657,1422.56 551.736,1422.57 553.816,1422.58 555.896,1422.59 557.975,1422.59 560.055,1422.6 562.135,1422.61 564.215,1422.61 566.294,1422.62 568.374,1422.63 570.454,1422.64 572.533,1422.64 574.613,1422.65 576.693,1422.65 578.772,1422.66 580.852,1422.67 582.932,1422.67 585.012,1422.68 587.091,1422.69 589.171,1422.69 591.251,1422.7 593.33,1422.7 595.41,1422.71 597.49,1422.71 599.569,1422.72 601.649,1422.73 603.729,1422.73 605.809,1422.74 607.888,1422.74 609.968,1422.75 612.048,1422.75 614.127,1422.76 616.207,1422.76 618.287,1422.77 620.366,1422.77 622.446,1422.78 624.526,1422.78 626.606,1422.79 628.685,1422.79 630.765,1422.8 632.845,1422.8 634.924,1422.81 637.004,1422.81 639.084,1422.82 641.163,1422.82 643.243,1422.82 645.323,1422.83 647.403,1422.83 649.482,1422.84 651.562,1422.84 653.642,1422.85 655.721,1422.85 657.801,1422.85 659.881,1422.86 661.96,1422.86 664.04,1422.87 666.12,1422.87 668.2,1422.87 670.279,1422.88 672.359,1422.88 674.439,1422.88 676.518,1422.89 678.598,1422.89 680.678,1422.89 682.757,1422.9 684.837,1422.9 686.917,1422.9 688.997,1422.91 691.076,1422.91 693.156,1422.91 695.236,1422.92 697.315,1422.92 699.395,1422.92 701.475,1422.93 703.554,1422.93 705.634,1422.93 707.714,1422.94 709.794,1422.94 711.873,1422.94 713.953,1422.94 716.033,1422.95 718.112,1422.95 720.192,1422.95 722.272,1422.96 724.351,1422.96 726.431,1422.96 728.511,1422.96 730.591,1422.97 732.67,1422.97 734.75,1422.97 736.83,1422.97 738.909,1422.98 740.989,1422.98 743.069,1422.98 745.148,1422.98 747.228,1422.99 749.308,1422.99 751.387,1422.99 753.467,1422.99 755.547,1423 757.627,1423 759.706,1423 761.786,1423 763.866,1423 765.945,1423.01 768.025,1423.01 770.105,1423.01 772.184,1423.01 774.264,1423.01 776.344,1423.02 778.424,1423.02 780.503,1423.02 782.583,1423.02 784.663,1423.02 786.742,1423.03 788.822,1423.03 790.902,1423.03 792.981,1423.03 795.061,1423.03 797.141,1423.04 799.221,1423.04 801.3,1423.04 803.38,1423.04 805.46,1423.04 807.539,1423.04 809.619,1423.05 811.699,1423.05 813.778,1423.05 815.858,1423.05 817.938,1423.05 820.018,1423.05 822.097,1423.06 824.177,1423.06 826.257,1423.06 828.336,1423.06 830.416,1423.06 832.496,1423.06 834.575,1423.06 836.655,1423.07 838.735,1423.07 840.815,1423.07 842.894,1423.07 844.974,1423.07 847.054,1423.07 849.133,1423.07 851.213,1423.07 853.293,1423.08 855.372,1423.08 857.452,1423.08 859.532,1423.08 861.612,1423.08 863.691,1423.08 865.771,1423.08 867.851,1423.08 869.93,1423.09 872.01,1423.09 874.09,1423.09 876.169,1423.09 878.249,1423.09 880.329,1423.09 882.409,1423.09 884.488,1423.09 886.568,1423.09 888.648,1423.1 890.727,1423.1 892.807,1423.1 894.887,1423.1 896.966,1423.1 899.046,1423.1 901.126,1423.1 903.206,1423.1 905.285,1423.1 907.365,1423.1 909.445,1423.11 911.524,1423.11 913.604,1423.11 915.684,1423.11 917.763,1423.11 919.843,1423.11 921.923,1423.11 924.003,1423.11 926.082,1423.11 928.162,1423.11 930.242,1423.11 932.321,1423.11 934.401,1423.12 936.481,1423.12 938.56,1423.12 940.64,1423.12 942.72,1423.12 944.8,1423.12 946.879,1423.12 948.959,1423.12 951.039,1423.12 953.118,1423.12 955.198,1423.12 957.278,1423.12 959.357,1423.12 961.437,1423.12 963.517,1423.13 965.597,1423.13 967.676,1423.13 969.756,1423.13 971.836,1423.13 973.915,1423.13 975.995,1423.13 978.075,1423.13 980.154,1423.13 982.234,1423.13 984.314,1423.13 986.394,1423.13 988.473,1423.13 990.553,1423.13 992.633,1423.13 994.712,1423.13 996.792,1423.14 998.872,1423.14 1000.95,1423.14 1003.03,1423.14 1005.11,1423.14 1007.19,1423.14 1009.27,1423.14 1011.35,1423.14 1013.43,1423.14 1015.51,1423.14 1017.59,1423.14 1019.67,1423.14 1021.75,1423.14 1023.83,1423.14 1025.91,1423.14 1027.99,1423.14 1030.07,1423.14 1032.15,1423.14 1034.23,1423.14 1036.31,1423.14 1038.39,1423.14 1040.47,1423.15 1042.55,1423.15 1044.63,1423.15 1046.7,1423.15 1048.78,1423.15 1050.86,1423.15 1052.94,1423.15 1055.02,1423.15 1057.1,1423.15 1059.18,1423.15 1061.26,1423.15 1063.34,1423.15 1065.42,1423.15 1067.5,1423.15 1069.58,1423.15 1071.66,1423.15 1073.74,1423.15 1075.82,1423.15 1077.9,1423.15 1079.98,1423.15 1082.06,1423.15 1084.14,1423.15 1086.22,1423.15 1088.3,1423.15 1090.38,1423.15 1092.46,1423.15 1094.54,1423.15 1096.62,1423.15 1098.7,1423.16 1100.78,1423.16 1102.86,1423.16 1104.94,1423.16 1107.02,1423.16 1109.1,1423.16 1111.18,1423.16 1113.26,1423.16 1115.33,1423.16 1117.41,1423.16 1119.49,1423.16 1121.57,1423.16 1123.65,1423.16 1125.73,1423.16 1127.81,1423.16 1129.89,1423.16 1131.97,1423.16 1134.05,1423.16 1136.13,1423.16 1138.21,1423.16 1140.29,1423.16 1142.37,1423.16 1144.45,1423.16 1146.53,1423.16 1148.61,1423.16 1150.69,1423.16 1152.77,1423.16 1154.85,1423.16 1156.93,1423.16 1159.01,1423.16 1161.09,1423.16 1163.17,1423.16 1165.25,1423.16 1167.33,1423.16 1169.41,1423.16 1171.49,1423.16 1173.57,1423.16 1175.65,1423.16 1177.73,1423.16 1179.81,1423.16 1181.89,1423.16 1183.96,1423.16 1186.04,1423.17 1188.12,1423.17 1190.2,1423.17 1192.28,1423.17 1194.36,1423.17 1196.44,1423.17 1198.52,1423.17 1200.6,1423.17 1202.68,1423.17 1204.76,1423.17 1206.84,1423.17 1208.92,1423.17 1211,1423.17 1213.08,1423.17 1215.16,1423.17 1217.24,1423.17 1219.32,1423.17 1221.4,1423.17 1223.48,1423.17 1225.56,1423.17 1227.64,1423.17 1229.72,1423.17 1231.8,1423.17 1233.88,1423.17 1235.96,1423.17 1238.04,1423.17 1240.12,1423.17 1242.2,1423.17 1244.28,1423.17 1246.36,1423.17 1248.44,1423.17 1250.52,1423.17 1252.6,1423.17 1254.67,1423.17 1256.75,1423.17 1258.83,1423.17 1260.91,1423.17 1262.99,1423.17 1265.07,1423.17 1267.15,1423.17 1269.23,1423.17 1271.31,1423.17 1273.39,1423.17 1275.47,1423.17 1277.55,1423.17 1279.63,1423.17 1281.71,1423.17 1283.79,1423.17 1285.87,1423.17 1287.95,1423.17 1290.03,1423.17 1292.11,1423.17 1294.19,1423.17 1296.27,1423.17 1298.35,1423.17 1300.43,1423.17 1302.51,1423.17 1304.59,1423.17 1306.67,1423.17 1308.75,1423.17 1310.83,1423.17 1312.91,1423.17 1314.99,1423.17 1317.07,1423.17 1319.15,1423.17 1321.23,1423.17 1323.3,1423.17 1325.38,1423.17 1327.46,1423.17 1329.54,1423.17 1331.62,1423.17 1333.7,1423.17 1335.78,1423.17 1337.86,1423.17 1339.94,1423.17 1342.02,1423.17 1344.1,1423.17 1346.18,1423.17 1348.26,1423.17 1350.34,1423.17 1352.42,1423.17 1354.5,1423.17 1356.58,1423.17 1358.66,1423.17 1360.74,1423.17 1362.82,1423.17 1364.9,1423.17 1366.98,1423.17 1369.06,1423.17 1371.14,1423.17 1373.22,1423.17 1375.3,1423.17 1377.38,1423.18 1379.46,1423.18 1381.54,1423.18 1383.62,1423.18 1385.7,1423.18 1387.78,1423.18 1389.86,1423.18 1391.93,1423.18 1394.01,1423.18 1396.09,1423.18 1398.17,1423.18 1400.25,1423.18 1402.33,1423.18 1404.41,1423.18 1406.49,1423.18 1408.57,1423.18 1410.65,1423.18 1412.73,1423.18 1414.81,1423.18 1416.89,1423.18 1418.97,1423.18 1421.05,1423.18 1423.13,1423.18 1425.21,1423.18 1427.29,1423.18 1429.37,1423.18 1431.45,1423.18 1433.53,1423.18 1435.61,1423.18 1437.69,1423.18 1439.77,1423.18 1441.85,1423.18 1443.93,1423.18 1446.01,1423.18 1448.09,1423.18 1450.17,1423.18 1452.25,1423.18 1454.33,1423.18 1456.41,1423.18 1458.49,1423.18 1460.56,1423.18 1462.64,1423.18 1464.72,1423.18 1466.8,1423.18 1468.88,1423.18 1470.96,1423.18 1473.04,1423.18 1475.12,1423.18 1477.2,1423.18 1479.28,1423.18 1481.36,1423.18 1483.44,1423.18 1485.52,1423.18 1487.6,1423.18 1489.68,1423.18 1491.76,1423.18 1493.84,1423.18 1495.92,1423.18 1498,1423.18 1500.08,1423.18 1502.16,1423.18 1504.24,1423.18 1506.32,1423.18 1508.4,1423.18 1510.48,1423.18 1512.56,1423.18 1514.64,1423.18 1516.72,1423.18 1518.8,1423.18 1520.88,1423.18 1522.96,1423.18 1525.04,1423.18 1527.12,1423.18 1529.2,1423.18 1531.27,1423.18 1533.35,1423.18 1535.43,1423.18 1537.51,1423.18 1539.59,1423.18 1541.67,1423.18 1543.75,1423.18 1545.83,1423.18 1547.91,1423.18 1549.99,1423.18 1552.07,1423.18 1554.15,1423.18 1556.23,1423.18 1558.31,1423.18 1560.39,1423.18 1562.47,1423.18 1564.55,1423.18 1566.63,1423.18 1568.71,1423.18 1570.79,1423.18 1572.87,1423.18 1574.95,1423.18 1577.03,1423.18 1579.11,1423.18 1581.19,1423.18 1583.27,1423.18 1585.35,1423.18 1587.43,1423.18 1589.51,1423.18 1591.59,1423.18 1593.67,1423.18 1595.75,1423.18 1597.83,1423.18 1599.9,1423.18 1601.98,1423.18 1604.06,1423.18 1606.14,1423.18 1608.22,1423.18 1610.3,1423.18 1612.38,1423.18 1614.46,1423.18 1616.54,1423.18 1618.62,1423.18 1620.7,1423.18 1622.78,1423.18 1624.86,1423.18 1626.94,1423.18 1629.02,1423.18 1631.1,1423.18 1633.18,1423.18 1635.26,1423.18 1637.34,1423.18 1639.42,1423.18 1641.5,1423.18 1643.58,1423.18 1645.66,1423.18 1647.74,1423.18 1649.82,1423.18 1651.9,1423.18 1653.98,1423.18 1656.06,1423.18 1658.14,1423.18 1660.22,1423.18 1662.3,1423.18 1664.38,1423.18 1666.46,1423.18 1668.53,1423.18 1670.61,1423.18 1672.69,1423.18 1674.77,1423.18 1676.85,1423.18 1678.93,1423.18 1681.01,1423.18 1683.09,1423.18 1685.17,1423.18 1687.25,1423.18 1689.33,1423.18 1691.41,1423.18 1693.49,1423.18 1695.57,1423.18 1697.65,1423.18 1699.73,1423.18 1701.81,1423.18 1703.89,1423.18 1705.97,1423.18 1708.05,1423.18 1710.13,1423.18 1712.21,1423.18 1714.29,1423.18 1716.37,1423.18 1718.45,1423.18 1720.53,1423.18 1722.61,1423.18 1724.69,1423.18 1726.77,1423.18 1728.85,1423.18 1730.93,1423.18 1733.01,1423.18 1735.09,1423.18 1737.16,1423.18 1739.24,1423.18 1741.32,1423.18 1743.4,1423.18 1745.48,1423.18 1747.56,1423.18 1749.64,1423.18 1751.72,1423.18 1753.8,1423.18 1755.88,1423.18 1757.96,1423.18 1760.04,1423.18 1762.12,1423.18 1764.2,1423.18 1766.28,1423.18 1768.36,1423.18 1770.44,1423.18 1772.52,1423.18 1774.6,1423.18 1776.68,1423.18 1778.76,1423.18 1780.84,1423.18 1782.92,1423.18 1785,1423.18 1787.08,1423.18 1789.16,1423.18 1791.24,1423.18 1793.32,1423.18 1795.4,1423.18 1797.48,1423.18 1799.56,1423.18 1801.64,1423.18 1803.72,1423.18 1805.8,1423.18 1807.87,1423.18 1809.95,1423.18 1812.03,1423.18 1814.11,1423.18 1816.19,1423.18 1818.27,1423.18 1820.35,1423.18 1822.43,1423.18 1824.51,1423.18 1826.59,1423.18 1828.67,1423.18 1830.75,1423.18 1832.83,1423.18 1834.91,1423.18 1836.99,1423.18 1839.07,1423.18 1841.15,1423.18 1843.23,1423.18 1845.31,1423.18 1847.39,1423.18 1849.47,1423.18 1851.55,1423.18 1853.63,1423.18 1855.71,1423.18 1857.79,1423.18 1859.87,1423.18 1861.95,1423.18 1864.03,1423.18 1866.11,1423.18 1868.19,1423.18 1870.27,1423.18 1872.35,1423.18 1874.43,1423.18 1876.5,1423.18 1878.58,1423.18 1880.66,1423.18 1882.74,1423.18 1884.82,1423.18 1886.9,1423.18 1888.98,1423.18 1891.06,1423.18 1893.14,1423.18 1895.22,1423.18 1897.3,1423.18 1899.38,1423.18 1901.46,1423.18 1903.54,1423.18 1905.62,1423.18 1907.7,1423.18 1909.78,1423.18 1911.86,1423.18 1913.94,1423.18 1916.02,1423.18 1918.1,1423.18 1920.18,1423.18 1922.26,1423.18 1924.34,1423.18 1926.42,1423.18 1928.5,1423.18 1930.58,1423.18 1932.66,1423.18 1934.74,1423.18 1936.82,1423.18 1938.9,1423.18 1940.98,1423.18 1943.06,1423.18 1945.13,1423.18 1947.21,1423.18 1949.29,1423.18 1951.37,1423.18 1953.45,1423.18 1955.53,1423.18 1957.61,1423.18 1959.69,1423.18 1961.77,1423.18 1963.85,1423.18 1965.93,1423.18 1968.01,1423.18 1970.09,1423.18 1972.17,1423.18 1974.25,1423.18 1976.33,1423.18 1978.41,1423.18 1980.49,1423.18 1982.57,1423.18 1984.65,1423.18 1986.73,1423.18 1988.81,1423.18 1990.89,1423.18 1992.97,1423.18 1995.05,1423.18 1997.13,1423.18 1999.21,1423.18 2001.29,1423.18 2003.37,1423.18 2005.45,1423.18 2007.53,1423.18 2009.61,1423.18 2011.69,1423.18 2013.76,1423.18 2015.84,1423.18 2017.92,1423.18 2020,1423.18 2022.08,1423.18 2024.16,1423.18 2026.24,1423.18 2028.32,1423.18 2030.4,1423.18 2032.48,1423.18 2034.56,1423.18 2036.64,1423.18 2038.72,1423.18 2040.8,1423.18 2042.88,1423.18 2044.96,1423.18 2047.04,1423.18 2049.12,1423.18 2051.2,1423.18 2053.28,1423.18 2055.36,1423.18 2057.44,1423.18 2059.52,1423.18 2061.6,1423.18 2063.68,1423.18 2065.76,1423.18 2067.84,1423.18 2069.92,1423.18 2072,1423.18 2074.08,1423.18 2076.16,1423.18 2078.24,1423.18 2080.32,1423.18 2082.4,1423.18 2084.47,1423.18 2086.55,1423.18 2088.63,1423.18 2090.71,1423.18 2092.79,1423.18 2094.87,1423.18 2096.95,1423.18 2099.03,1423.18 2101.11,1423.18 2103.19,1423.18 2105.27,1423.18 2107.35,1423.18 2109.43,1423.18 2111.51,1423.18 2113.59,1423.18 2115.67,1423.18 2117.75,1423.18 2119.83,1423.18 2121.91,1423.18 2123.99,1423.18 2126.07,1423.18 2128.15,1423.18 2130.23,1423.18 2132.31,1423.18 2134.39,1423.18 2136.47,1423.18 2138.55,1423.18 2140.63,1423.18 2142.71,1423.18 2144.79,1423.18 2146.87,1423.18 2148.95,1423.18 2151.03,1423.18 2153.1,1423.18 2155.18,1423.18 2157.26,1423.18 2159.34,1423.18 2161.42,1423.18 2163.5,1423.18 2165.58,1423.18 2167.66,1423.18 2169.74,1423.18 2171.82,1423.18 2173.9,1423.18 2175.98,1423.18 2178.06,1423.18 2180.14,1423.18 2182.22,1423.18 2184.3,1423.18 2186.38,1423.18 2188.46,1423.18 2190.54,1423.18 2192.62,1423.18 2194.7,1423.18 2196.78,1423.18 2198.86,1423.18 2200.94,1423.18 2203.02,1423.18 2205.1,1423.18 2207.18,1423.18 2209.26,1423.18 2211.34,1423.18 2213.42,1423.18 2215.5,1423.18 2217.58,1423.18 2219.66,1423.18 2221.73,1423.18 2223.81,1423.18 2225.89,1423.18 2227.97,1423.18 2230.05,1423.18 2232.13,1423.18 2234.21,1423.18 2236.29,1423.18 2238.37,1423.18 2240.45,1423.18 2242.53,1423.18 2244.61,1423.18 2246.69,1423.18 2248.77,1423.18 2250.85,1423.18 2252.93,1423.18 2255.01,1423.18 2257.09,1423.18 2259.17,1423.18 2261.25,1423.18 2263.33,1423.18 2265.41,1423.18 2267.49,1423.18 2269.57,1423.18 2271.65,1423.18 2273.73,1423.18 2275.81,1423.18 2277.89,1423.18 2279.97,1423.18 2282.05,1423.18 2284.13,1423.18 2286.21,1423.18 2288.29,1423.18 2290.36,1423.18 2292.44,1423.18 2294.52,1423.18 2296.6,1423.18 2298.68,1423.18 2300.76,1423.18 2302.84,1423.18 2304.92,1423.18 2307,1423.18 2309.08,1423.18 2311.16,1423.18 2313.24,1423.18 2315.32,1423.18 2317.4,1423.18 2319.48,1423.18 2321.56,1423.18 2323.64,1423.18 2325.72,1423.18 2327.8,1423.18 2329.88,1423.18 2331.96,1423.18 2334.04,1423.18 2336.12,1423.18 2338.2,1423.18 2340.28,1423.18 2342.36,1423.18 2344.44,1423.18 2346.52,1423.18 2348.6,1423.18 2350.68,1423.18 2352.76,1423.18 \"/>\n",
       "<polyline clip-path=\"url(#clip422)\" style=\"stroke:#3da44d; stroke-linecap:round; stroke-linejoin:round; stroke-width:4; stroke-opacity:1; fill:none\" points=\"275.136,198.331 310.957,196.793 490.063,187.752 525.884,186.4 561.705,184.813 597.526,183.435 848.273,169.682 884.094,167.06 919.915,164.572 991.557,160.123 1063.2,157.067 1099.02,155.374 1242.3,145.501 1385.59,136.752 1421.41,134.376 1493.05,129.361 1672.16,118.23 1707.98,114.876 1743.8,111.925 1815.44,106.356 1851.26,103.542 1887.08,99.7566 1994.55,85.9408 2030.37,82.6613 2066.19,79.3761 2173.65,65.3516 2209.47,61.0541 2245.29,57.4115 2316.93,50.3835 2352.76,47.2441 \"/>\n",
       "</svg>\n"
      ]
     },
     "execution_count": 26,
     "metadata": {},
     "output_type": "execute_result"
    }
   ],
   "source": [
    "plot(sol;idxs = I)\n",
    "plot!(t_train,data_train[1][2])"
   ]
  }
 ],
 "metadata": {
  "kernelspec": {
   "display_name": "Julia 1.7.2",
   "language": "julia",
   "name": "julia-1.7"
  },
  "language_info": {
   "file_extension": ".jl",
   "mimetype": "application/julia",
   "name": "julia",
   "version": "1.7.2"
  }
 },
 "nbformat": 4,
 "nbformat_minor": 5
}
