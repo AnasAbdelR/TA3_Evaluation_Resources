{
 "cells": [
  {
   "cell_type": "code",
   "execution_count": null,
   "metadata": {},
   "outputs": [],
   "source": []
  },
  {
   "cell_type": "markdown",
   "metadata": {},
   "source": []
  },
  {
   "attachments": {},
   "cell_type": "markdown",
   "metadata": {},
   "source": [
    "$$\\frac{\\partial u}{\\partial t}+u\\frac{\\partial u}{\\partial x}+v\\frac{\\partial u}{\\partial y} = -\\frac{1}{\\rho}\\frac{\\partial p}{\\partial x}+\\nu \\frac{\\partial^2 u}{\\partial x^2}+\\frac{\\partial^2 u}{\\partial y^2}\n",
    "\n",
    "\\frac{\\partial v}{\\partial t}+u\\\\frac{\\\\partial v}{\\\\partial x}+v\\\\frac{\\\\partial v}{\\\\partial y} = -\\\\frac{1}{\\\\rho}\\\\frac{\\\\partial p}{\\\\partial y}+\\\\nu\\\\left(\\\\frac{\\\\partial^2 v}{\\\\partial x^2}+\\\\frac{\\\\partial^2 v}{\\\\partial y^2}\\\\right)\n",
    "\n",
    "\\\\frac{\\\\partial^2 p}{\\\\partial x^2}+\\\\frac{\\\\partial^2 p}{\\\\partial y^2} = -\\\\rho\\\\left(\\\\frac{\\\\partial u}{\\\\partial x}\\\\frac{\\\\partial u}{\\\\partial x}+2\\\\frac{\\\\partial u}{\\\\partial y}\\\\frac{\\\\partial v}{\\\\partial x}+\\\\frac{\\\\partial v}{\\\\partial y}\\\\frac{\\\\partial v}{\\\\partial y} \\\\right)$\n"
   ]
  },
  {
   "attachments": {},
   "cell_type": "markdown",
   "metadata": {},
   "source": [
    "Now we will import the packages we need:"
   ]
  },
  {
   "cell_type": "code",
   "execution_count": 1,
   "metadata": {},
   "outputs": [],
   "source": [
    "using MethodOfLines, DomainSets, ModelingToolkit, OrdinaryDiffEq\n"
   ]
  },
  {
   "attachments": {},
   "cell_type": "markdown",
   "metadata": {},
   "source": [
    "Now we'll construct the system:"
   ]
  },
  {
   "cell_type": "code",
   "execution_count": 7,
   "metadata": {},
   "outputs": [
    {
     "data": {
      "text/latex": [
       "$$ \\begin{align}\n",
       "u\\left( t, x, y \\right) \\frac{\\mathrm{d}}{\\mathrm{d}x} u\\left( t, x, y \\right) + v\\left( t, x, y \\right) \\frac{\\mathrm{d}}{\\mathrm{d}y} v\\left( t, x, y \\right) + \\frac{\\mathrm{d}}{\\mathrm{d}t} u\\left( t, x, y \\right) =& 0.1 \\left( \\frac{\\mathrm{d}}{\\mathrm{d}x} \\frac{\\mathrm{d}}{\\mathrm{d}x} u\\left( t, x, y \\right) + \\frac{\\mathrm{d}}{\\mathrm{d}y} \\frac{\\mathrm{d}}{\\mathrm{d}y} u\\left( t, x, y \\right) \\right) - \\frac{\\mathrm{d}}{\\mathrm{d}x} p\\left( t, x, y \\right) \\\\\n",
       "u\\left( t, x, y \\right) \\frac{\\mathrm{d}}{\\mathrm{d}x} v\\left( t, x, y \\right) + v\\left( t, x, y \\right) \\frac{\\mathrm{d}}{\\mathrm{d}y} v\\left( t, x, y \\right) + \\frac{\\mathrm{d}}{\\mathrm{d}t} v\\left( t, x, y \\right) =& 0.1 \\left( \\frac{\\mathrm{d}}{\\mathrm{d}x} \\frac{\\mathrm{d}}{\\mathrm{d}x} v\\left( t, x, y \\right) + \\frac{\\mathrm{d}}{\\mathrm{d}y} \\frac{\\mathrm{d}}{\\mathrm{d}y} v\\left( t, x, y \\right) \\right) - \\frac{\\mathrm{d}}{\\mathrm{d}y} p\\left( t, x, y \\right) \\\\\n",
       "\\frac{\\mathrm{d}}{\\mathrm{d}x} \\frac{\\mathrm{d}}{\\mathrm{d}x} p\\left( t, x, y \\right) + \\frac{\\mathrm{d}}{\\mathrm{d}y} \\frac{\\mathrm{d}}{\\mathrm{d}y} p\\left( t, x, y \\right) =&  - \\left( \\frac{\\mathrm{d}}{\\mathrm{d}x} u\\left( t, x, y \\right) \\right)^{2} - \\left( \\frac{\\mathrm{d}}{\\mathrm{d}y} v\\left( t, x, y \\right) \\right)^{2} - 2 \\frac{\\mathrm{d}}{\\mathrm{d}x} u\\left( t, x, y \\right) \\frac{\\mathrm{d}}{\\mathrm{d}y} v\\left( t, x, y \\right)\n",
       "\\end{align}\n",
       " $$"
      ],
      "text/plain": [
       "PDESystem\n",
       "Equations: Equation[u(t, x, y)*Differential(x)(u(t, x, y)) + v(t, x, y)*Differential(y)(v(t, x, y)) + Differential(t)(u(t, x, y)) ~ 0.1(Differential(x)(Differential(x)(u(t, x, y))) + Differential(y)(Differential(y)(u(t, x, y)))) - Differential(x)(p(t, x, y)), u(t, x, y)*Differential(x)(v(t, x, y)) + v(t, x, y)*Differential(y)(v(t, x, y)) + Differential(t)(v(t, x, y)) ~ 0.1(Differential(x)(Differential(x)(v(t, x, y))) + Differential(y)(Differential(y)(v(t, x, y)))) - Differential(y)(p(t, x, y)), Differential(x)(Differential(x)(p(t, x, y))) + Differential(y)(Differential(y)(p(t, x, y))) ~ -(Differential(x)(u(t, x, y))^2) - (Differential(y)(v(t, x, y))^2) - 2.0Differential(x)(u(t, x, y))*Differential(y)(v(t, x, y))]\n",
       "Boundary Conditions: Equation[u(0, x, y) ~ 0.0, v(0, x, y) ~ 0.0, p(0, x, y) ~ 0.0, u(t, x, 0) ~ 0.0, u(t, x, 2) ~ 1.0, v(t, x, 0) ~ 0.0, v(t, x, 2) ~ 0.0, u(t, 0, y) ~ 0.0, u(t, 2, y) ~ 0.0, v(t, 0, y) ~ 0.0, v(t, 2, y) ~ 0.0, Differential(y)(p(t, x, 0)) ~ 0.0, p(t, x, 2) ~ 0.0, Differential(x)(p(t, 0, y)) ~ 0.0, Differential(x)(p(t, 2, y)) ~ 0.0]\n",
       "Domain: Symbolics.VarDomainPairing[Symbolics.VarDomainPairing(t, 0.0..0.1), Symbolics.VarDomainPairing(x, 0.0..2.0), Symbolics.VarDomainPairing(y, 0.0..2.0)]\n",
       "Dependent Variables: Num[u(t, x, y), v(t, x, y), p(t, x, y)]\n",
       "Independent Variables: Num[t, x, y]\n",
       "Parameters: SciMLBase.NullParameters()\n",
       "Default Parameter ValuesDict{Any, Any}()"
      ]
     },
     "metadata": {},
     "output_type": "display_data"
    }
   ],
   "source": [
    "@parameters t, x, y\n",
    "@variables p(..), u(..), v(..)\n",
    "\n",
    "Dt = Differential(t)\n",
    "Dx = Differential(x)\n",
    "Dy = Differential(y)\n",
    "Dxx = Differential(x)^2\n",
    "Dyy = Differential(y)^2\n",
    "\n",
    "ρ = 1.0\n",
    "ν = 0.1\n",
    "\n",
    "eqs = [Dt(u(t,x,y)) + u(t,x,y)*Dx(u(t,x,y)) + v(t,x,y)*Dy(v(t,x,y)) ~  -(1/ρ)*Dx(p(t,x,y)) + ν*(Dxx(u(t,x,y)) + Dyy(u(t,x,y))),\n",
    "       Dt(v(t,x,y)) + u(t,x,y)*Dx(v(t,x,y)) + v(t,x,y)*Dy(v(t,x,y)) ~  -(1/ρ)*Dy(p(t,x,y)) + ν*(Dxx(v(t,x,y)) + Dyy(v(t,x,y))),\n",
    "       Dxx(p(t,x,y)) + Dyy(p(t,x,y)) ~  -ρ*((Dx(u(t,x,y)))^2 + 2*Dx(u(t,x,y))*Dy(v(t,x,y)) + (Dy(v(t,x,y)))^2)]\n",
    "\n",
    "bcs = [u(0,x,y) ~ 0.0,\n",
    "       v(0,x,y) ~ 0.0,\n",
    "       p(0,x,y) ~ 0.0,\n",
    "       u(t,x,0) ~ 0.0,\n",
    "       u(t,x,2) ~ 1.0,\n",
    "       v(t,x,0) ~ 0.0,\n",
    "       v(t,x,2) ~ 0.0,\n",
    "       u(t,0,y) ~ 0.0,\n",
    "       u(t,2,y) ~ 0.0,\n",
    "       v(t,0,y) ~ 0.0,\n",
    "       v(t,2,y) ~ 0.0,\n",
    "       Dy(p(t,x,0)) ~ 0.0,\n",
    "       p(t,x,2) ~ 0.0,\n",
    "       Dx(p(t,0,y)) ~ 0.0,\n",
    "       Dx(p(t,2,y)) ~ 0.0]\n",
    "\n",
    "domains = [t ∈ IntervalDomain(0.0,0.1),\n",
    "           x ∈ IntervalDomain(0.0,2.0),\n",
    "           y ∈ IntervalDomain(0.0,2.0)]\n",
    "\n",
    "@named pdesys = PDESystem(eqs, bcs, domains, [t,x,y],[u(t,x,y),v(t,x,y),p(t,x,y)])"
   ]
  },
  {
   "cell_type": "code",
   "execution_count": 8,
   "metadata": {},
   "outputs": [],
   "source": []
  },
  {
   "attachments": {},
   "cell_type": "markdown",
   "metadata": {},
   "source": [
    "Let's discretize:"
   ]
  },
  {
   "cell_type": "code",
   "execution_count": 9,
   "metadata": {},
   "outputs": [],
   "source": [
    "disc = MOLFiniteDifference([x => 41, y => 41], t, advection_scheme=WENOScheme())\n",
    "\n",
    "prob = discretize(pdesys, disc)"
   ]
  },
  {
   "attachments": {},
   "cell_type": "markdown",
   "metadata": {},
   "source": [
    "And Finally Solve"
   ]
  },
  {
   "cell_type": "code",
   "execution_count": 4,
   "metadata": {},
   "outputs": [
    {
     "ename": "UndefVarError",
     "evalue": "UndefVarError: `QRBDF` not defined",
     "output_type": "error",
     "traceback": [
      "UndefVarError: `QRBDF` not defined\n",
      "\n",
      "Stacktrace:\n",
      " [1] top-level scope\n",
      "   @ ~/Code/TA3_Evaluation_Resources/climate/Climate_Modeling_2.ipynb:1"
     ]
    }
   ],
   "source": [
    "sol = solve(prob, QRBDF(), saveat=0.001)\n"
   ]
  },
  {
   "cell_type": "code",
   "execution_count": null,
   "metadata": {},
   "outputs": [],
   "source": []
  }
 ],
 "metadata": {
  "kernelspec": {
   "display_name": "Julia 1.9.1",
   "language": "julia",
   "name": "julia-1.9"
  },
  "language_info": {
   "file_extension": ".jl",
   "mimetype": "application/julia",
   "name": "julia",
   "version": "1.9.1"
  },
  "orig_nbformat": 4
 },
 "nbformat": 4,
 "nbformat_minor": 2
}
