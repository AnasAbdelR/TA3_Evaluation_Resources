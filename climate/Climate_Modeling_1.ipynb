{
 "cells": [
  {
   "attachments": {},
   "cell_type": "markdown",
   "metadata": {},
   "source": [
    "1. (Low Complexity) This scenario focuses on Zero-Dimensional (0-D) and One-Dimensional (1-D) Energy Balance Models (EBMs), gradually adding complexity. (Derived in part from the Climate Laboratory)\n",
    "a. Assume Earth behaves like a blackbody radiator governed by 𝑂𝐿𝑅 = 𝜎𝑇4 where: 𝑠\n",
    "• The outgoing longwave radiation (OLR) emitted by Earth has a measured global annual mean value of 238.5 W/m2.\n",
    "• Ts is the global average surface temperature. •𝜎=\n",
    "What is Ts under the blackbody radiation assumption, and how does it compare to measurements?"
   ]
  },
  {
   "cell_type": "code",
   "execution_count": 1,
   "metadata": {},
   "outputs": [
    {
     "data": {
      "text/plain": [
       "254.66914551158553"
      ]
     },
     "metadata": {},
     "output_type": "display_data"
    }
   ],
   "source": [
    "# Outgoing Longwave Radiation (OLR)\n",
    "olr = 238.5 # W/m^2\n",
    "\n",
    "# Stephan-Boltzmann constant\n",
    "σ = 5.67e-8 # W/(m^2K^4)\n",
    "\n",
    "# Mean surface temperature\n",
    "Tₛ = (olr/σ)^(1/4)"
   ]
  },
  {
   "attachments": {},
   "cell_type": "markdown",
   "metadata": {},
   "source": [
    "[20th Century average](https://www.ncei.noaa.gov/access/monitoring/monthly-report/global/202213#:~:text=Updated%20NOAAGlobalTemp%20dataset-,Global%20Temperatures,C%20(57.0°F).) Tₛ: 13.9 Celcius: Estimate too low "
   ]
  },
  {
   "attachments": {},
   "cell_type": "markdown",
   "metadata": {},
   "source": [
    "b. Now, correct OLR to account for the fact that only a fraction of energy emitted by Earth at the surface makes it out to space, due to the greenhouse effect, 𝑂𝐿𝑅 = 𝜏𝜎𝑇4, where\n",
    "𝑠\n",
    "𝜏 = 0.612 is the transmissivity, or fraction of emissions from the surface of the Earth,\n",
    "that make it to space. What is Ts under this corrected expression, and how does it compare to measurements?"
   ]
  },
  {
   "cell_type": "code",
   "execution_count": 2,
   "metadata": {},
   "outputs": [
    {
     "data": {
      "text/plain": [
       "287.9310331566349"
      ]
     },
     "metadata": {},
     "output_type": "display_data"
    }
   ],
   "source": [
    "# Transmissivity\n",
    "τ = 0.612\n",
    "\n",
    "Tₛ = (olr/(σ*τ))^(1/4)\n"
   ]
  },
  {
   "attachments": {},
   "cell_type": "markdown",
   "metadata": {},
   "source": [
    "This Predicts that at current transmissivity, temperature will trend higher"
   ]
  },
  {
   "attachments": {},
   "cell_type": "markdown",
   "metadata": {},
   "source": [
    "c. Now we consider a simple 0-dimensional EBM:\n",
    "```math\n",
    "C \\frac{dT_s}{dt} = (1 - \\alpha)Q - \\tau \\sigma T_s ^4  \n",
    "```\n",
    "where:\n",
    "\n",
    "• ASR is the ‘absorbed shortwave radiation’, which is part of the incoming energy\n",
    "from the sun that is not reflected back, and is absorbed into the Earth system.\n",
    "• OLR is the ‘outgoing longwave radiation’ emitted by Earth (incorporating the\n",
    "greenhouse effect).\n",
    "\n",
    "• Ts is the global average surface temperature.\n",
    "\n",
    "• C is the heat capacity of the Earth system, which is approximated by the\n",
    "amount of energy required to heat 100 meters of water. It is governed by the equation, 𝐶 = 𝑓𝜌𝑐𝑤𝐻, where 𝑓 is the fraction of the area of interest covered by water (as a whole, the fraction of Earth covered by water is 0.7), 𝜌 is the density\n",
    "of water (1025 𝑘𝑔 ), 𝑐 is the specific heat of water (4186 𝐽 ), and 𝐻 is the 𝑚3 𝑤 𝑘𝑔°C\n",
    "depth of the water that is heated or cooled. For this problem, you can assume\n",
    "𝑓 = 1, and 𝐻 = 100𝑚.\n",
    "\n",
    "1\n",
    "• 𝜏 = 0.612 is the transmissivity, or fraction of emissions from the surface of the Earth, that make it to space.\n",
    "\n",
    "•𝜎=5.67e-8 W/(m^2 K)\n",
    "\n",
    "• 𝑄 = 341.3 𝑊/m^2\\ is the annual global average insolation, or the energy received\n",
    "𝑚2\n",
    "from incoming solar radiation per unit time per unit surface.\n",
    "\n",
    "• 𝛼 = 0.299, is the planetary albedo, which is the fraction of 𝑄 that is reflected\n",
    "back into space.\n",
    "Determine the equilibrium temperature? Set 𝑇 (0) = 288 𝐾. How long does it take to\n",
    "approach the equilibrium temperature (within some reasonable margin)? Plot 𝑇 over 𝑠\n",
    "this period."
   ]
  },
  {
   "cell_type": "code",
   "execution_count": null,
   "metadata": {},
   "outputs": [],
   "source": [
    "using ModelingToolkit, OrdinaryDiffEq\n",
    "\n",
    "@variables t, Tₛ(t)\n",
    "\n",
    "Dt = Differential(t)\n",
    "\n",
    "# Water fraction (assumed 1.0, actual ~0.7)\n",
    "f = 1.0\n",
    "# rho is density of Water\n",
    "ρ = 1025 # kg/m^3\n",
    "# specific heat of Water\n",
    "c_w = 4186 #J/(kgK)\n",
    "# Depth of water\n",
    "H = 100 #m\n",
    "\n",
    "#Heat Cap of earth\n",
    "C = f*ρ*c_w*H\n",
    "\n",
    "# annual average global insolation\n",
    "Q = 341.3 # W/m^2\n",
    "\n",
    "# albedo\n",
    "α = 0.299\n",
    "\n",
    "eq = [Dt(Tₛ) ~ ((1 - α)*Q - τ*σ*Tₛ^4)/C]\n",
    "\n",
    "@named sys = ODESystem(eq, t, defaults = Dict(Tₛ => 288)) # default in Kelvin\n",
    "\n",
    "simpsys = structural_simplify(sys)\n",
    "\n",
    "prob = ODEProblem(sys, [], (0.0, 9.0e8))\n",
    "\n",
    "sol = solve(prob, Tsit5())\n",
    "\n",
    "using Plots\n",
    "\n",
    "plot(sol)\n"
   ]
  },
  {
   "attachments": {},
   "cell_type": "markdown",
   "metadata": {},
   "source": [
    "It takes approximately 19 years to reach equillibrium"
   ]
  },
  {
   "attachments": {},
   "cell_type": "markdown",
   "metadata": {},
   "source": [
    "\n",
    "d. Let’s assume that global warming affects the atmospheric composition and cloudiness,\n",
    "such that 𝛼 is increased to 0.31, and 𝜏 is decreased to 0.58. Set 𝑇 (0) to the equilibrium 𝑠\n",
    "temperature in question 1c. How long does it take to approach the new equilibrium temperature due to the perturbation? Does the change (and direction of change) in equilibrium temperature make sense given the nature of the perturbation?\n"
   ]
  },
  {
   "cell_type": "code",
   "execution_count": null,
   "metadata": {},
   "outputs": [],
   "source": [
    "α = 0.31\n",
    "τ = 0.58\n",
    "\n",
    "eq = [Dt(Tₛ) ~ ((1 - α)*Q - τ*σ*Tₛ^4)/C]\n",
    "\n",
    "@named sys = ODESystem(eq, t, defaults = Dict(Tₛ => 288.1573171596813)) # default in Kelvin\n",
    "\n",
    "simpsys = structural_simplify(sys)\n",
    "\n",
    "prob = ODEProblem(sys, [], (0.0, 9.0e8))\n",
    "\n",
    "sol = solve(prob, Tsit5())\n",
    "\n",
    "using Plots\n",
    "\n",
    "plot(sol)"
   ]
  },
  {
   "attachments": {},
   "cell_type": "markdown",
   "metadata": {},
   "source": [
    "again about 19 years to reach equilibrium, this makes sense due to a pronounced reduction in transmissivity compared to small increase in albedo"
   ]
  },
  {
   "attachments": {},
   "cell_type": "markdown",
   "metadata": {},
   "source": [
    "Now let’s represent a simple greenhouse model by adding an atmosphere layer that absorbs and emits longwave radiation. This model makes the following simplifying assumptions (shown in this diagram):\n",
    "![single layer atmosphere](sla.png)"
   ]
  },
  {
   "cell_type": "markdown",
   "metadata": {},
   "source": []
  },
  {
   "attachments": {},
   "cell_type": "markdown",
   "metadata": {},
   "source": [
    "\n",
    "• The atmosphere can be represented by a single layer with temperature 𝑇 𝑎\n",
    "\n",
    "• The atmosphere is transparent to shortwave solar radiation (shown in the diagram above with\n",
    " the yellow arrows), and completely opaque to infrared radiation (shown in the diagram above the red arrows).\n",
    "\n",
    "• The surface absorbs (1 − 𝛼)𝑄 amount of shortwave radiation.\n",
    "\n",
    "• Both surface and atmosphere emit blackbody radiation.\n",
    "\n",
    "• There are no other heat transfer mechanisms.\n",
    "\n",
    "What are the temperatures for the surface and atmosphere, at radiative equilibrium? To answer this, you will need to balance energy for each layer. How does the surface temperature compare to observed data? Why do you think there is a difference?"
   ]
  },
  {
   "cell_type": "code",
   "execution_count": null,
   "metadata": {},
   "outputs": [],
   "source": [
    "# atmospheric temperature\n",
    "@variables Tₐ(t)\n",
    "\n",
    "τ = 0.612\n",
    "α = 0.299\n",
    "\n",
    "\n",
    "#Heat Cap of earth\n",
    "Cₑ = f*ρ*c_w*H\n",
    "\n",
    "# heat cap of atmosphere https://atmos.washington.edu/~dennis/321/321_Lecture_12.pdf\n",
    "Cₐ = 1.02e7 # J/(kg*m^2)\n",
    "\n",
    "eqs = [Dt(Tₛ) ~ ((1 - α)*Q - σ*Tₛ^4 + 0.5*σ*Tₐ^4)/Cₑ,\n",
    "       Dt(Tₐ) ~ (σ*Tₛ^4 - σ*Tₐ^4)/Cₐ]\n",
    "\n",
    "\n",
    "# ? atmos ic\n",
    "@named sys = ODESystem(eqs, t, defaults = Dict([Tₛ => 288.1573171596813, Tₐ => 288.15])) # default in Kelvin\n",
    "\n",
    "simpsys = structural_simplify(sys)\n",
    "\n",
    "prob = ODEProblem(sys, [], (0.0, 9.0e8))\n",
    "\n",
    "sol = solve(prob, Tsit5())\n",
    "\n",
    "using Plots\n",
    "\n",
    "plot(sol)"
   ]
  },
  {
   "attachments": {},
   "cell_type": "markdown",
   "metadata": {},
   "source": [
    "Temperatures come out to approx 303K, much hotter than observed temperatures. This could be due to treating the whole atmosphere as if it had the same temerature as at the surface, and treating it as opaque to IR"
   ]
  },
  {
   "attachments": {},
   "cell_type": "markdown",
   "metadata": {},
   "source": [
    "f. To add more realism into our model, we add yet another layer to our atmosphere, so that our model is now represented by the diagram below. This is known as the two-layer grey gas model (named this because emission and absorption processes have no wavelength/spectral dependence).\n",
    "![grey gas](2layerAtm_sketch.png)"
   ]
  },
  {
   "attachments": {},
   "cell_type": "markdown",
   "metadata": {},
   "source": [
    "\n",
    "This model makes the following assumptions:\n",
    "\n",
    "• The atmosphere is divided into two layers of equal mass; the dividing line is the\n",
    "500 hPa pressure level.\n",
    "\n",
    "• Each atmosphere layer absorbs a fraction epsilon, 𝜖, of the longwave radiation\n",
    "incident upon it and is the same for both layers. Therefore, (1 − 𝜖) of the\n",
    "longwave radiation is transmitted through each layer.\n",
    "\n",
    "• Each atmosphere layer is still fully transparent to shortwave radiation (shown in\n",
    "the diagram by the yellow arrows)\n",
    "\n",
    "• For the atmospheric layers, absorptivity = emissivity (Kirchoff’s Law).\n",
    "\n",
    "• According to this model, we find that\n",
    "𝑂𝐿𝑅 = (1 − 𝜖)2𝜎𝑇4 + 𝜖(1 − 𝜖)𝜎𝑇4 + 𝜖𝜎𝑇4."
   ]
  },
  {
   "attachments": {},
   "cell_type": "markdown",
   "metadata": {},
   "source": [
    "I. What is the effect of varying 𝜖 from [0,1]? What value of 𝜖 best matches observed valuesof 𝑂𝐿𝑅 = 238.5 𝑊/m^2 ; 𝑇 = 288𝐾; 𝑇 = 275𝐾; 𝑇 = 230𝐾?"
   ]
  },
  {
   "cell_type": "markdown",
   "metadata": {},
   "source": []
  },
  {
   "cell_type": "code",
   "execution_count": 3,
   "metadata": {},
   "outputs": [
    {
     "ename": "UndefVarError",
     "evalue": "UndefVarError: `plot` not defined",
     "output_type": "error",
     "traceback": [
      "UndefVarError: `plot` not defined\n",
      "\n",
      "Stacktrace:\n",
      " [1] top-level scope\n",
      "   @ Untitled-1.ipynb:5"
     ]
    }
   ],
   "source": [
    "greygasolr(ϵ) = (1 - ϵ)^2*σ*288^4 + ϵ*(1-ϵ)*σ*275^4 + ϵ*σ*230^4\n",
    "\n",
    "dϵ = 0:0.1:1\n",
    "\n",
    "plot(dϵ, greygasolr.(dϵ))\n"
   ]
  },
  {
   "attachments": {},
   "cell_type": "markdown",
   "metadata": {},
   "source": [
    "increasing ϵ, decreasing OLR"
   ]
  },
  {
   "cell_type": "code",
   "execution_count": null,
   "metadata": {},
   "outputs": [],
   "source": [
    "\n",
    "@variables ε\n",
    "\n",
    "eq = 0 ~ 238.5 - greygasolr(ε) \n",
    "\n",
    "@named sys = NonlinearSystem([eq], [ε], []) # Yes you can do it with quadratic formula but who has the time?\n",
    "\n",
    "simpsys = structural_simplify(sys)\n",
    "\n",
    "using NonlinearSolve\n",
    "\n",
    "prob = NonlinearProblem(sys, [0.5], [])\n",
    "\n",
    "sol = NonlinearSolve.solve(prob, NewtonRaphson())\n",
    "\n",
    "ϵ = sol.u[1]"
   ]
  },
  {
   "attachments": {},
   "cell_type": "markdown",
   "metadata": {},
   "source": [
    "best match to observation at ϵ = 0.586"
   ]
  },
  {
   "attachments": {},
   "cell_type": "markdown",
   "metadata": {},
   "source": [
    "II. What is the radiative equilibrium solution, and how does it compare to observed temperatures? If there is a difference, why do you think that is the case?"
   ]
  },
  {
   "cell_type": "code",
   "execution_count": null,
   "metadata": {},
   "outputs": [],
   "source": [
    "# Equilibrium solution\n",
    "@variables Tₛ T₀ T₁\n",
    "\n",
    "U₀ = σ*Tₛ^4\n",
    "U₁ = (1 - ϵ)*U₀ + ϵ*σ*T₀^4\n",
    "U₂ = (1 - ϵ)*U₁ + ϵ*σ*T₁^4\n",
    "\n",
    "eq = [0 ~ ((1-α)*Q - U₀)/Cₑ,\n",
    "      0 ~ (ϵ*U₀ - ϵ*σ*T₀^4)/Cₐ,\n",
    "      0 ~ (ϵ*U₁ - ϵ*σ*T₁^4)/Cₐ]\n",
    "\n",
    "@named sys = NonlinearSystem(eq, [Tₛ, T₀, T₁], []) \n",
    "\n",
    "simpsys = structural_simplify(sys)\n",
    "\n",
    "prob = NonlinearProblem(sys, [288, 275, 230], [])\n",
    "\n",
    "sol = NonlinearSolve.solve(prob, NewtonRaphson())\n",
    "\n",
    "@show simpsys.states .=> sol.u\n"
   ]
  },
  {
   "attachments": {},
   "cell_type": "markdown",
   "metadata": {},
   "source": [
    "In radiative equilibrium, Temperatures are all equivalent at around 260 Kelvin. It is clear that this should be different from our case as our planet is warming."
   ]
  },
  {
   "attachments": {},
   "cell_type": "markdown",
   "metadata": {},
   "source": [
    "III. Automate the extension of this model to include an arbitrary number of atmospheric layers"
   ]
  },
  {
   "cell_type": "code",
   "execution_count": null,
   "metadata": {},
   "outputs": [],
   "source": [
    "N = 10\n",
    "@variables T[1:N]\n",
    "\n",
    "U₀ = σ*T[1]^4\n",
    "U = [U₀]\n",
    "for i in 2:N\n",
    "    push!(U, (1 - ϵ)*U[i-1] + ϵ*σ*T[i]^4)\n",
    "end\n",
    "\n",
    "# As many layers as you want\n",
    "eqs = [0 ~ ((1-α)*Q - U₀)/Cₑ;\n",
    "      [0 ~ (ϵ*U[i-1] - ϵ*σ*T[i]^4)/Cₐ for i in 2:N]]     \n"
   ]
  },
  {
   "attachments": {},
   "cell_type": "markdown",
   "metadata": {},
   "source": [
    "g. One-Dimensional Energy Balance Model (EBM): One of the issues with simpler models such as the ones described in the above sections, is that they lack important processes like heat transport. In moving from 0-D to 1-D models, we now think about regional climates and energy transfer between latitude zones.\n",
    "3\n",
    " Consider the following 1-D EBM, also known as the Budyko-Sellers model:\n",
    "```math\n",
    "C(\\varphi) \\frac{\\partial T_s}{\\partial t} = (1 - \\alpha(\\varphi, t))Q(\\varphi, t) - A + BT_s(\\varphi, t) + \\frac{D}{cos \\varphi} \\frac{\\partial}{\\partial \\varphi}(cos \\varphi \\frac{\\partial T_s(\\varphi, t)}{\\partial \\varphi})\n",
    "```\n",
    "\n",
    "  where,\n",
    "\n",
    "• Surface temperature Ts is a function of both time t and latitude 𝜑.\n",
    "\n",
    "• Here we choose a simple parameterization of OLR (although this could be made\n",
    "more complex) with 𝐴 = 210 𝑊 , representing longwave emissions at 0°C, and 𝑚2\n",
    "𝐵 = 2 𝑊 , representing the increase in emissions per degree. These values 𝑚2𝐶\n",
    "were chosen based on tuning with reanalysis data from the National Oceanic and Atmospheric Administration (NOAA) - National Centers for Environmental Prediction (NCEP).\n",
    "\n",
    "• We estimate albedo 𝛼(𝜑)≈𝛼0 +𝛼_2 𝑃_2(sin𝜑)where 𝑃_2(𝑥)=1/2(3x^2 − 1)is \n",
    "the 2nd Legendre polynomial, 𝛼0 = 0.354 (global planetary albedo), 𝛼2 = 0.25. This function (orange line) was chosen as a relatively good fit to observed data (blue line, from NCEP reanalysis) where we get the correct global mean and representation of equator-to-pole gradient in the albedo, to reflect increased albedo towards the poles due to greater surface snow and ice.\n",
    "\n",
    "• 𝐶(𝜑) is effective heat capacity of the atmosphere at latitude 𝜑, in units 𝐽 . 𝑚2°C\n",
    "We describe this as a function of latitude so this model can be generalized different land-ocean fractions at different latitudes (although that is not the focus of this problem). For this scenario we can assume this is a constant value\n",
    "given by 𝐶 = 𝑓𝜌𝑐𝑤𝐻 , as described in 1c, but here assume more realistic values\n",
    "with 𝑓 = 0.70, and the depth of the ocean mixed layer 𝐻 = 70𝑚.\n",
    "\n",
    "• Insolation values 𝑄(𝜑, 𝑡) can be obtained and averaged to get annual mean\n",
    "values, as described [here](https://brian-rose.github.io/ClimateLaboratoryBook/courseware/insolation.html#the-daily-average-zenith-angle)\n",
    "\n",
    "• Assume the horizontal diffusivity of the climate system 𝐷 = 0.6 𝑊 𝑚2°C\n",
    "\n",
    "Assume annual mean values (in other words, assume a timestep of 1 year), and solve\n",
    "the full time-varying 1D EBM as defined in this problem, assuming an initial temperature\n",
    "profile that is warm at the equator and cold at the poles: 𝑇 (𝜑, 0) = 12 − 40𝑃 (sin 𝜑), 𝑠2\n",
    "where 𝑃 is the 2nd Legendre polynomial as defined earlier. Assume no-flux boundary 2\n",
    "   conditions at the poles. What is the steady state equilibrium temperature profile as a function of latitude, 𝑇 (𝜑)?\n"
   ]
  },
  {
   "cell_type": "code",
   "execution_count": null,
   "metadata": {},
   "outputs": [],
   "source": [
    "using MethodOfLines, DomainSets\n",
    "\n",
    "@parameters φ t\n",
    "@variables Tₛ(..)\n",
    "\n",
    "Dt = Differential(t)\n",
    "Dφ = Differential(φ)\n",
    "\n",
    "A = 210 # W/m^2\n",
    "B = 2 # W/m^2K\n",
    "D = 0.6 # W/m^2K\n",
    "\n",
    "P₂(x) = 0.5*(3*x^2 - 1)\n",
    "α_func(ϕ) = 0.354 + 0.25*P₂(sin(ϕ))\n",
    "Q_func(t, ϕ) = 430*cos(ϕ)\n",
    "\n",
    "# Water fraction\n",
    "f = 0.7\n",
    "# rho is density of Water\n",
    "ρ = 1025 # kg/m^3\n",
    "# specific heat of Water\n",
    "c_w = 4186 #J/(kgK)\n",
    "# Depth of water\n",
    "H = 70 #m\n",
    "\n",
    "#Heat Cap of earth\n",
    "C = f*ρ*c_w*H\n",
    "\n",
    "eq = C*Dt(Tₛ(t, φ)) ~ (1 - α_func(φ))*Q_func(t, φ) - A + B*Tₛ(t, φ) + D*Dφ(cos(φ)*Dφ(Tₛ(t, φ)))/cos(φ)\n",
    "\n",
    "bcs = [Tₛ(0, φ) ~ 12 - 40*P₂(sin(φ)),\n",
    "       Tₛ(t, -Float64(π)) ~ Tₛ(t, Float64(π))]\n",
    "domains = [t in IntervalDomain(0, 9.0e8), φ in IntervalDomain(-Float64(π), Float64(π))]\n",
    "\n",
    "@named sys = PDESystem(eq, bcs, domains, [t, φ], [Tₛ(t, φ)])\n",
    "\n",
    "discretization = MOLFiniteDifference([φ => 130], t)\n",
    "\n",
    "prob = discretize(sys, discretization) # ERROR HERE\n",
    "\n",
    "sol = solve(prob, Tsit5())"
   ]
  }
 ],
 "metadata": {
  "kernelspec": {
   "display_name": "Julia 1.9.1",
   "language": "julia",
   "name": "julia-1.9"
  },
  "language_info": {
   "file_extension": ".jl",
   "mimetype": "application/julia",
   "name": "julia",
   "version": "1.9.1"
  },
  "orig_nbformat": 4
 },
 "nbformat": 4,
 "nbformat_minor": 2
}
